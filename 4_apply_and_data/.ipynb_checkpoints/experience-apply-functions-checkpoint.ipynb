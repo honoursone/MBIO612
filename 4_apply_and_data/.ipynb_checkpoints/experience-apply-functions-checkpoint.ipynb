{
 "cells": [
  {
   "cell_type": "code",
   "execution_count": 53,
   "id": "ff2aee4a",
   "metadata": {},
   "outputs": [],
   "source": [
    "# Write you library imports here. E.g.:\n",
    "# ...\n",
    "library(tidyverse)\n",
    "library(ggplot2)"
   ]
  },
  {
   "cell_type": "markdown",
   "id": "b90fe26e",
   "metadata": {},
   "source": [
    "\n",
    "### Instructions:\n",
    "\n",
    "1. it is considered proper programming practice to load all the libraries you need in the first cell of a notebook or at the top of the R-Markdown file. Put all your imports (e.g., `library(ggplot)`) in the cell above.\n",
    "2. Create as many cells as needed to answer a question\n",
    "  * Group code that is logically related in the same cell\n",
    "  * Keep cells relatively small\n",
    "  * Format long statements or expressions, including `ggplot`, across multiple lines\n",
    "3. Submit your work to GitHub under your MBIO repository.\n",
    "  * Folder should be called `4_apply_and_data`\n",
    "    "
   ]
  },
  {
   "cell_type": "markdown",
   "id": "9d1f436c",
   "metadata": {},
   "source": [
    "### Q1\n",
    "\n",
    "* Write a function called `sd_x` that computes the standard deviation from first principles. Recall that the standard deviation is computed as\n",
    "\n",
    "$$\n",
    "\\sigma = \\sqrt{\\frac{\\sum{(x_i - \\mu)^2}}{N-1}}\n",
    "$$\n",
    "\n",
    "* $\\mu$ is simply the mean of the vector of inputs\n",
    "  * it can be computed using the `mean` function\n",
    "\n",
    "\n",
    "For example, given:\n",
    "\n",
    "```x = c(1,2,3)```\n",
    "\n",
    "Since $\\mu = 2$, then $\\sigma = \\sqrt{\\frac{(1-2)^2 + (2-2)^2 + (3-2)^2}{3}} = 1$.\n"
   ]
  },
  {
   "cell_type": "code",
   "execution_count": 79,
   "id": "a532397f",
   "metadata": {},
   "outputs": [
    {
     "data": {
      "text/html": [
       "<style>\n",
       ".list-inline {list-style: none; margin:0; padding: 0}\n",
       ".list-inline>li {display: inline-block}\n",
       ".list-inline>li:not(:last-child)::after {content: \"\\00b7\"; padding: 0 .5ex}\n",
       "</style>\n",
       "<ol class=list-inline><li>-1</li><li>0</li><li>1</li></ol>\n"
      ],
      "text/latex": [
       "\\begin{enumerate*}\n",
       "\\item -1\n",
       "\\item 0\n",
       "\\item 1\n",
       "\\end{enumerate*}\n"
      ],
      "text/markdown": [
       "1. -1\n",
       "2. 0\n",
       "3. 1\n",
       "\n",
       "\n"
      ],
      "text/plain": [
       "[1] -1  0  1"
      ]
     },
     "metadata": {},
     "output_type": "display_data"
    }
   ],
   "source": [
    "# Write your code here\n",
    "#variables\n",
    "xi <- c(1,2,3)\n",
    "mu <- mean(xi)\n",
    "xi-mu\n",
    "#N <- c(3)\n",
    "#num <- sapply(xi, function(a) {(a - mu)^2})\n",
    "#den<-N-1"
   ]
  },
  {
   "cell_type": "code",
   "execution_count": 82,
   "id": "61639bfe",
   "metadata": {},
   "outputs": [
    {
     "data": {
      "text/html": [
       "1"
      ],
      "text/latex": [
       "1"
      ],
      "text/markdown": [
       "1"
      ],
      "text/plain": [
       "[1] 1"
      ]
     },
     "metadata": {},
     "output_type": "display_data"
    }
   ],
   "source": [
    "sqrt(sum((xi-mu)^2)/2)"
   ]
  },
  {
   "cell_type": "code",
   "execution_count": null,
   "id": "bdf24757",
   "metadata": {},
   "outputs": [],
   "source": []
  },
  {
   "cell_type": "code",
   "execution_count": 55,
   "id": "a1d273a8",
   "metadata": {},
   "outputs": [
    {
     "data": {
      "text/html": [
       "1"
      ],
      "text/latex": [
       "1"
      ],
      "text/markdown": [
       "1"
      ],
      "text/plain": [
       "[1] 1"
      ]
     },
     "metadata": {},
     "output_type": "display_data"
    }
   ],
   "source": [
    "#sd_x\n",
    "sd_x<- sqrt(sum(num)/den)\n",
    "sd_x"
   ]
  },
  {
   "cell_type": "markdown",
   "id": "e959fbbe",
   "metadata": {},
   "source": [
    "### Optional Question \n",
    "\n",
    "Remember that we cannot compute the standard deviation of a single value. As such, modify your `sd_x` code to throw an error similar to those R generates when your code contains an error, whenever a user calls `sd_x` with a list containing a single element. Various methods can be used to accomplish this. One such way is by using the [`assertthat` package](https://github.com/hadley/assertthat) "
   ]
  },
  {
   "cell_type": "code",
   "execution_count": 56,
   "id": "5da36d62",
   "metadata": {},
   "outputs": [],
   "source": [
    "# Write your code here if you choose to answer the question above\n",
    "# use extra cells if needed"
   ]
  },
  {
   "cell_type": "markdown",
   "id": "49cf15c5",
   "metadata": {},
   "source": [
    "### Q2\n",
    "Given the following matrix of data where each column consists of a variable: \n",
    "1. Convert this data frame into a tibble called data_tbl\n",
    "2. Use one of the apply-type of functions in conjunction with `sd_x` you wrote previously to compute the standard deviation for each column.\n"
   ]
  },
  {
   "cell_type": "code",
   "execution_count": 57,
   "id": "778eb309",
   "metadata": {},
   "outputs": [
    {
     "data": {
      "text/html": [
       "<table class=\"dataframe\">\n",
       "<caption>A matrix: 10 × 5 of type int</caption>\n",
       "<thead>\n",
       "\t<tr><th scope=col>variable_1</th><th scope=col>variable_2</th><th scope=col>variable_3</th><th scope=col>variable_4</th><th scope=col>variable_5</th></tr>\n",
       "</thead>\n",
       "<tbody>\n",
       "\t<tr><td> 1</td><td>11</td><td>21</td><td>31</td><td>41</td></tr>\n",
       "\t<tr><td> 2</td><td>12</td><td>22</td><td>32</td><td>42</td></tr>\n",
       "\t<tr><td> 3</td><td>13</td><td>23</td><td>33</td><td>43</td></tr>\n",
       "\t<tr><td> 4</td><td>14</td><td>24</td><td>34</td><td>44</td></tr>\n",
       "\t<tr><td> 5</td><td>15</td><td>25</td><td>35</td><td>45</td></tr>\n",
       "\t<tr><td> 6</td><td>16</td><td>26</td><td>36</td><td>46</td></tr>\n",
       "\t<tr><td> 7</td><td>17</td><td>27</td><td>37</td><td>47</td></tr>\n",
       "\t<tr><td> 8</td><td>18</td><td>28</td><td>38</td><td>48</td></tr>\n",
       "\t<tr><td> 9</td><td>19</td><td>29</td><td>39</td><td>49</td></tr>\n",
       "\t<tr><td>10</td><td>20</td><td>30</td><td>40</td><td>50</td></tr>\n",
       "</tbody>\n",
       "</table>\n"
      ],
      "text/latex": [
       "A matrix: 10 × 5 of type int\n",
       "\\begin{tabular}{lllll}\n",
       " variable\\_1 & variable\\_2 & variable\\_3 & variable\\_4 & variable\\_5\\\\\n",
       "\\hline\n",
       "\t  1 & 11 & 21 & 31 & 41\\\\\n",
       "\t  2 & 12 & 22 & 32 & 42\\\\\n",
       "\t  3 & 13 & 23 & 33 & 43\\\\\n",
       "\t  4 & 14 & 24 & 34 & 44\\\\\n",
       "\t  5 & 15 & 25 & 35 & 45\\\\\n",
       "\t  6 & 16 & 26 & 36 & 46\\\\\n",
       "\t  7 & 17 & 27 & 37 & 47\\\\\n",
       "\t  8 & 18 & 28 & 38 & 48\\\\\n",
       "\t  9 & 19 & 29 & 39 & 49\\\\\n",
       "\t 10 & 20 & 30 & 40 & 50\\\\\n",
       "\\end{tabular}\n"
      ],
      "text/markdown": [
       "\n",
       "A matrix: 10 × 5 of type int\n",
       "\n",
       "| variable_1 | variable_2 | variable_3 | variable_4 | variable_5 |\n",
       "|---|---|---|---|---|\n",
       "|  1 | 11 | 21 | 31 | 41 |\n",
       "|  2 | 12 | 22 | 32 | 42 |\n",
       "|  3 | 13 | 23 | 33 | 43 |\n",
       "|  4 | 14 | 24 | 34 | 44 |\n",
       "|  5 | 15 | 25 | 35 | 45 |\n",
       "|  6 | 16 | 26 | 36 | 46 |\n",
       "|  7 | 17 | 27 | 37 | 47 |\n",
       "|  8 | 18 | 28 | 38 | 48 |\n",
       "|  9 | 19 | 29 | 39 | 49 |\n",
       "| 10 | 20 | 30 | 40 | 50 |\n",
       "\n"
      ],
      "text/plain": [
       "      variable_1 variable_2 variable_3 variable_4 variable_5\n",
       " [1,]  1         11         21         31         41        \n",
       " [2,]  2         12         22         32         42        \n",
       " [3,]  3         13         23         33         43        \n",
       " [4,]  4         14         24         34         44        \n",
       " [5,]  5         15         25         35         45        \n",
       " [6,]  6         16         26         36         46        \n",
       " [7,]  7         17         27         37         47        \n",
       " [8,]  8         18         28         38         48        \n",
       " [9,]  9         19         29         39         49        \n",
       "[10,] 10         20         30         40         50        "
      ]
     },
     "metadata": {},
     "output_type": "display_data"
    }
   ],
   "source": [
    "data = matrix(1:50, ncol=5)\n",
    "colnames(data) = c(\"variable_1\", \"variable_2\", \"variable_3\", \"variable_4\", \"variable_5\")\n",
    "data"
   ]
  },
  {
   "cell_type": "code",
   "execution_count": 58,
   "id": "d8de32a8",
   "metadata": {},
   "outputs": [
    {
     "data": {
      "text/html": [
       "<table class=\"dataframe\">\n",
       "<caption>A tibble: 10 × 5</caption>\n",
       "<thead>\n",
       "\t<tr><th scope=col>variable_1</th><th scope=col>variable_2</th><th scope=col>variable_3</th><th scope=col>variable_4</th><th scope=col>variable_5</th></tr>\n",
       "\t<tr><th scope=col>&lt;int&gt;</th><th scope=col>&lt;int&gt;</th><th scope=col>&lt;int&gt;</th><th scope=col>&lt;int&gt;</th><th scope=col>&lt;int&gt;</th></tr>\n",
       "</thead>\n",
       "<tbody>\n",
       "\t<tr><td> 1</td><td>11</td><td>21</td><td>31</td><td>41</td></tr>\n",
       "\t<tr><td> 2</td><td>12</td><td>22</td><td>32</td><td>42</td></tr>\n",
       "\t<tr><td> 3</td><td>13</td><td>23</td><td>33</td><td>43</td></tr>\n",
       "\t<tr><td> 4</td><td>14</td><td>24</td><td>34</td><td>44</td></tr>\n",
       "\t<tr><td> 5</td><td>15</td><td>25</td><td>35</td><td>45</td></tr>\n",
       "\t<tr><td> 6</td><td>16</td><td>26</td><td>36</td><td>46</td></tr>\n",
       "\t<tr><td> 7</td><td>17</td><td>27</td><td>37</td><td>47</td></tr>\n",
       "\t<tr><td> 8</td><td>18</td><td>28</td><td>38</td><td>48</td></tr>\n",
       "\t<tr><td> 9</td><td>19</td><td>29</td><td>39</td><td>49</td></tr>\n",
       "\t<tr><td>10</td><td>20</td><td>30</td><td>40</td><td>50</td></tr>\n",
       "</tbody>\n",
       "</table>\n"
      ],
      "text/latex": [
       "A tibble: 10 × 5\n",
       "\\begin{tabular}{lllll}\n",
       " variable\\_1 & variable\\_2 & variable\\_3 & variable\\_4 & variable\\_5\\\\\n",
       " <int> & <int> & <int> & <int> & <int>\\\\\n",
       "\\hline\n",
       "\t  1 & 11 & 21 & 31 & 41\\\\\n",
       "\t  2 & 12 & 22 & 32 & 42\\\\\n",
       "\t  3 & 13 & 23 & 33 & 43\\\\\n",
       "\t  4 & 14 & 24 & 34 & 44\\\\\n",
       "\t  5 & 15 & 25 & 35 & 45\\\\\n",
       "\t  6 & 16 & 26 & 36 & 46\\\\\n",
       "\t  7 & 17 & 27 & 37 & 47\\\\\n",
       "\t  8 & 18 & 28 & 38 & 48\\\\\n",
       "\t  9 & 19 & 29 & 39 & 49\\\\\n",
       "\t 10 & 20 & 30 & 40 & 50\\\\\n",
       "\\end{tabular}\n"
      ],
      "text/markdown": [
       "\n",
       "A tibble: 10 × 5\n",
       "\n",
       "| variable_1 &lt;int&gt; | variable_2 &lt;int&gt; | variable_3 &lt;int&gt; | variable_4 &lt;int&gt; | variable_5 &lt;int&gt; |\n",
       "|---|---|---|---|---|\n",
       "|  1 | 11 | 21 | 31 | 41 |\n",
       "|  2 | 12 | 22 | 32 | 42 |\n",
       "|  3 | 13 | 23 | 33 | 43 |\n",
       "|  4 | 14 | 24 | 34 | 44 |\n",
       "|  5 | 15 | 25 | 35 | 45 |\n",
       "|  6 | 16 | 26 | 36 | 46 |\n",
       "|  7 | 17 | 27 | 37 | 47 |\n",
       "|  8 | 18 | 28 | 38 | 48 |\n",
       "|  9 | 19 | 29 | 39 | 49 |\n",
       "| 10 | 20 | 30 | 40 | 50 |\n",
       "\n"
      ],
      "text/plain": [
       "   variable_1 variable_2 variable_3 variable_4 variable_5\n",
       "1   1         11         21         31         41        \n",
       "2   2         12         22         32         42        \n",
       "3   3         13         23         33         43        \n",
       "4   4         14         24         34         44        \n",
       "5   5         15         25         35         45        \n",
       "6   6         16         26         36         46        \n",
       "7   7         17         27         37         47        \n",
       "8   8         18         28         38         48        \n",
       "9   9         19         29         39         49        \n",
       "10 10         20         30         40         50        "
      ]
     },
     "metadata": {},
     "output_type": "display_data"
    }
   ],
   "source": [
    "# Write your code here\n",
    "data_tbl<-as_tibble(data)\n",
    "data_tbl\n",
    "xi <- c(1,2,3)\n",
    "mu1 <- mean(data_tbl$variable_1)\n",
    "mu2 <- mean(data_tbl$variable_2)\n",
    "mu3 <- mean(data_tbl$variable_3)\n",
    "mu4 <- mean(data_tbl$variable_4)\n",
    "mu5 <- mean(data_tbl$variable_5)\n",
    "N <- c(10)"
   ]
  },
  {
   "cell_type": "code",
   "execution_count": 84,
   "id": "baaf3383",
   "metadata": {},
   "outputs": [
    {
     "data": {
      "text/html": [
       "<style>\n",
       ".dl-inline {width: auto; margin:0; padding: 0}\n",
       ".dl-inline>dt, .dl-inline>dd {float: none; width: auto; display: inline-block}\n",
       ".dl-inline>dt::after {content: \":\\0020\"; padding-right: .5ex}\n",
       ".dl-inline>dt:not(:first-of-type) {padding-left: .5ex}\n",
       "</style><dl class=dl-inline><dt>variable_1</dt><dd>5.5</dd><dt>variable_2</dt><dd>15.5</dd><dt>variable_3</dt><dd>25.5</dd><dt>variable_4</dt><dd>35.5</dd><dt>variable_5</dt><dd>45.5</dd></dl>\n"
      ],
      "text/latex": [
       "\\begin{description*}\n",
       "\\item[variable\\textbackslash{}\\_1] 5.5\n",
       "\\item[variable\\textbackslash{}\\_2] 15.5\n",
       "\\item[variable\\textbackslash{}\\_3] 25.5\n",
       "\\item[variable\\textbackslash{}\\_4] 35.5\n",
       "\\item[variable\\textbackslash{}\\_5] 45.5\n",
       "\\end{description*}\n"
      ],
      "text/markdown": [
       "variable_1\n",
       ":   5.5variable_2\n",
       ":   15.5variable_3\n",
       ":   25.5variable_4\n",
       ":   35.5variable_5\n",
       ":   45.5\n",
       "\n"
      ],
      "text/plain": [
       "variable_1 variable_2 variable_3 variable_4 variable_5 \n",
       "       5.5       15.5       25.5       35.5       45.5 "
      ]
     },
     "metadata": {},
     "output_type": "display_data"
    }
   ],
   "source": [
    "apply(data_tbl, 2, mean)"
   ]
  },
  {
   "cell_type": "code",
   "execution_count": 85,
   "id": "350b24e6",
   "metadata": {},
   "outputs": [
    {
     "ename": "ERROR",
     "evalue": "Error in get(as.character(FUN), mode = \"function\", envir = envir): object 'sd_x' of mode 'function' was not found\n",
     "output_type": "error",
     "traceback": [
      "Error in get(as.character(FUN), mode = \"function\", envir = envir): object 'sd_x' of mode 'function' was not found\nTraceback:\n",
      "1. apply(data_tbl, 2, sd_x)",
      "2. match.fun(FUN)",
      "3. get(as.character(FUN), mode = \"function\", envir = envir)"
     ]
    }
   ],
   "source": [
    "apply(data_tbl, 2, sd)"
   ]
  },
  {
   "cell_type": "code",
   "execution_count": 59,
   "id": "5f857c32",
   "metadata": {},
   "outputs": [],
   "source": [
    "#numerators and denominator\n",
    "num1 <- sapply(data_tbl$variable_1, function(a) {(a - mu1)^2})\n",
    "num2 <- sapply(data_tbl$variable_2, function(a) {(a - mu2)^2})\n",
    "num3 <- sapply(data_tbl$variable_3, function(a) {(a - mu3)^2})\n",
    "num4 <- sapply(data_tbl$variable_4, function(a) {(a - mu4)^2})\n",
    "num5 <- sapply(data_tbl$variable_5, function(a) {(a - mu5)^2})\n",
    "den<-N-1"
   ]
  },
  {
   "cell_type": "code",
   "execution_count": 60,
   "id": "8655f471",
   "metadata": {},
   "outputs": [],
   "source": [
    "#sd fxns for each var\n",
    "sd1<- sqrt(sum(num1)/den)\n",
    "sd2<- sqrt(sum(num2)/den)\n",
    "sd3<- sqrt(sum(num3)/den)\n",
    "sd4<- sqrt(sum(num4)/den)\n",
    "sd5<- sqrt(sum(num5)/den)"
   ]
  },
  {
   "cell_type": "code",
   "execution_count": 61,
   "id": "03d347d8",
   "metadata": {},
   "outputs": [
    {
     "data": {
      "text/html": [
       "3.02765035409749"
      ],
      "text/latex": [
       "3.02765035409749"
      ],
      "text/markdown": [
       "3.02765035409749"
      ],
      "text/plain": [
       "[1] 3.02765"
      ]
     },
     "metadata": {},
     "output_type": "display_data"
    },
    {
     "data": {
      "text/html": [
       "3.02765035409749"
      ],
      "text/latex": [
       "3.02765035409749"
      ],
      "text/markdown": [
       "3.02765035409749"
      ],
      "text/plain": [
       "[1] 3.02765"
      ]
     },
     "metadata": {},
     "output_type": "display_data"
    },
    {
     "data": {
      "text/html": [
       "3.02765035409749"
      ],
      "text/latex": [
       "3.02765035409749"
      ],
      "text/markdown": [
       "3.02765035409749"
      ],
      "text/plain": [
       "[1] 3.02765"
      ]
     },
     "metadata": {},
     "output_type": "display_data"
    },
    {
     "data": {
      "text/html": [
       "3.02765035409749"
      ],
      "text/latex": [
       "3.02765035409749"
      ],
      "text/markdown": [
       "3.02765035409749"
      ],
      "text/plain": [
       "[1] 3.02765"
      ]
     },
     "metadata": {},
     "output_type": "display_data"
    },
    {
     "data": {
      "text/html": [
       "3.02765035409749"
      ],
      "text/latex": [
       "3.02765035409749"
      ],
      "text/markdown": [
       "3.02765035409749"
      ],
      "text/plain": [
       "[1] 3.02765"
      ]
     },
     "metadata": {},
     "output_type": "display_data"
    }
   ],
   "source": [
    "#sd for each var\n",
    "sd1\n",
    "sd2\n",
    "sd3\n",
    "sd4\n",
    "sd5"
   ]
  },
  {
   "cell_type": "code",
   "execution_count": 62,
   "id": "7ff6f2de",
   "metadata": {},
   "outputs": [
    {
     "data": {
      "text/html": [
       "3.02765035409749"
      ],
      "text/latex": [
       "3.02765035409749"
      ],
      "text/markdown": [
       "3.02765035409749"
      ],
      "text/plain": [
       "[1] 3.02765"
      ]
     },
     "metadata": {},
     "output_type": "display_data"
    },
    {
     "data": {
      "text/html": [
       "3.02765035409749"
      ],
      "text/latex": [
       "3.02765035409749"
      ],
      "text/markdown": [
       "3.02765035409749"
      ],
      "text/plain": [
       "[1] 3.02765"
      ]
     },
     "metadata": {},
     "output_type": "display_data"
    },
    {
     "data": {
      "text/html": [
       "3.02765035409749"
      ],
      "text/latex": [
       "3.02765035409749"
      ],
      "text/markdown": [
       "3.02765035409749"
      ],
      "text/plain": [
       "[1] 3.02765"
      ]
     },
     "metadata": {},
     "output_type": "display_data"
    },
    {
     "data": {
      "text/html": [
       "3.02765035409749"
      ],
      "text/latex": [
       "3.02765035409749"
      ],
      "text/markdown": [
       "3.02765035409749"
      ],
      "text/plain": [
       "[1] 3.02765"
      ]
     },
     "metadata": {},
     "output_type": "display_data"
    },
    {
     "data": {
      "text/html": [
       "3.02765035409749"
      ],
      "text/latex": [
       "3.02765035409749"
      ],
      "text/markdown": [
       "3.02765035409749"
      ],
      "text/plain": [
       "[1] 3.02765"
      ]
     },
     "metadata": {},
     "output_type": "display_data"
    }
   ],
   "source": [
    "#checking against sd() fxn to make sure values are correct\n",
    "check1<-sd(data_tbl$variable_1)\n",
    "check2<-sd(data_tbl$variable_2)\n",
    "check3<-sd(data_tbl$variable_3)\n",
    "check4<-sd(data_tbl$variable_4)\n",
    "check5<-sd(data_tbl$variable_5)\n",
    "check1\n",
    "check2\n",
    "check3\n",
    "check4\n",
    "check5"
   ]
  },
  {
   "cell_type": "markdown",
   "id": "dec09c62",
   "metadata": {},
   "source": [
    "### Q3\n",
    "\n",
    "* In this question, we will build a simulated dataset for healthy and diseased corals.  You will be creating a `tibble` called `coral_health_tbl` that contains 2 columns:\n",
    "\n",
    "1. A column called `coral`. Generate this column by sampling 100 coral species from the following values\n",
    "```\n",
    "coral_pop = c(\"Montipora capitata\",\n",
    "  \"Porites compressa\",\n",
    "  \"Porites lobata\")\n",
    "```\n",
    " * You can use the function `sample` to select 100 values from the vector `coral_pop`\n",
    "   * You can see how the function sample works [here](https://www.rdocumentation.org/packages/base/versions/3.6.2/topics/sample)\n",
    " \n",
    "2. The second column is called `is_diseased`.\n",
    "    * it represents 100 randomly selected `TRUE` or `FALSE` values that represent whether the coral is healthy or diseased.\n",
    "    * Healthy corals (`is_diseased == FALSE`; not diseased) occur with a probability of 0.8, i.e. (`is_diseased == TRUE`) occurs with a probability of 0.2\n"
   ]
  },
  {
   "cell_type": "code",
   "execution_count": 77,
   "id": "7bf3ae1b",
   "metadata": {
    "scrolled": true
   },
   "outputs": [],
   "source": [
    "# Write your code here\n",
    "#dataframe variables\n",
    "coral_pop <- c (\"Montipora capitata\",\"Porites compressa\",\"Porites lobata\")\n",
    "diseased <- c(\"TRUE\",\"FALSE\")\n",
    "coral <- sample(coral_pop, 100, replace = TRUE, prob = NULL)\n",
    "is_diseased <- sample (diseased, 100, replace = TRUE, prob = c(0.8,0.2))"
   ]
  },
  {
   "cell_type": "code",
   "execution_count": 64,
   "id": "09fc337f",
   "metadata": {},
   "outputs": [
    {
     "name": "stdout",
     "output_type": "stream",
     "text": [
      "'data.frame':\t100 obs. of  2 variables:\n",
      " $ coral      : chr  \"Porites lobata\" \"Porites compressa\" \"Porites compressa\" \"Porites lobata\" ...\n",
      " $ is_diseased: chr  \"FALSE\" \"TRUE\" \"TRUE\" \"TRUE\" ...\n"
     ]
    }
   ],
   "source": [
    "#make dataframe\n",
    "coral_health_df <- data.frame (coral, is_diseased)\n",
    "str(coral_health_df)"
   ]
  },
  {
   "cell_type": "code",
   "execution_count": 65,
   "id": "a837b00e",
   "metadata": {},
   "outputs": [
    {
     "name": "stdout",
     "output_type": "stream",
     "text": [
      "tibble [100 × 2] (S3: tbl_df/tbl/data.frame)\n",
      " $ coral      : chr [1:100] \"Porites lobata\" \"Porites compressa\" \"Porites compressa\" \"Porites lobata\" ...\n",
      " $ is_diseased: chr [1:100] \"FALSE\" \"TRUE\" \"TRUE\" \"TRUE\" ...\n"
     ]
    }
   ],
   "source": [
    "#make tibble\n",
    "coral_health_tbl <- as_tibble(coral_health_df)\n",
    "str(coral_health_tbl)"
   ]
  },
  {
   "cell_type": "markdown",
   "id": "dacc2558",
   "metadata": {},
   "source": [
    "### Q4\n",
    "\n",
    "* The function `rnorm` is used to sample (i.e., produce) random values from a normal distribution. The syntax of the function is as follows:\n",
    "```\n",
    "rnorm(n, mu, sd)\n",
    "```\n",
    "where n is the number of samples to generate, mu is the mean of the distribution and `sd` is the standard deviation.\n",
    "\n",
    "Essentially what the function does is generate `n` random values from a normal distribution that is centered around the mean `mu` and has the standard deviation defined by the parameter `sd`. If you do not understand what this statement means, you should not worry as we will cover it in greater detail in the next section. However, you must know that this function generates n random values that are in some way close to the provided mean (`mu`) you provided.\n",
    "\n",
    "Use the cell below to experiment with the function `rnorm`. E.g.: try to generate 5 values from the distribution with a mean 10 and a standard deviation 1."
   ]
  },
  {
   "cell_type": "code",
   "execution_count": 66,
   "id": "9aa5b82e",
   "metadata": {},
   "outputs": [
    {
     "data": {
      "text/html": [
       "<style>\n",
       ".list-inline {list-style: none; margin:0; padding: 0}\n",
       ".list-inline>li {display: inline-block}\n",
       ".list-inline>li:not(:last-child)::after {content: \"\\00b7\"; padding: 0 .5ex}\n",
       "</style>\n",
       "<ol class=list-inline><li>12.0378049929424</li><li>9.67251820748816</li><li>12.0010913980159</li><li>10.4408775544371</li><li>9.86975695775547</li></ol>\n"
      ],
      "text/latex": [
       "\\begin{enumerate*}\n",
       "\\item 12.0378049929424\n",
       "\\item 9.67251820748816\n",
       "\\item 12.0010913980159\n",
       "\\item 10.4408775544371\n",
       "\\item 9.86975695775547\n",
       "\\end{enumerate*}\n"
      ],
      "text/markdown": [
       "1. 12.0378049929424\n",
       "2. 9.67251820748816\n",
       "3. 12.0010913980159\n",
       "4. 10.4408775544371\n",
       "5. 9.86975695775547\n",
       "\n",
       "\n"
      ],
      "text/plain": [
       "[1] 12.037805  9.672518 12.001091 10.440878  9.869757"
      ]
     },
     "metadata": {},
     "output_type": "display_data"
    }
   ],
   "source": [
    "rnorm (5, 10, 1)"
   ]
  },
  {
   "cell_type": "code",
   "execution_count": 67,
   "id": "eb430d00",
   "metadata": {},
   "outputs": [
    {
     "data": {
      "text/html": [
       "<style>\n",
       ".list-inline {list-style: none; margin:0; padding: 0}\n",
       ".list-inline>li {display: inline-block}\n",
       ".list-inline>li:not(:last-child)::after {content: \"\\00b7\"; padding: 0 .5ex}\n",
       "</style>\n",
       "<ol class=list-inline><li>11.0803659580077</li><li>10.581393238222</li><li>9.02829884206524</li><li>10.8909832815536</li><li>10.5957361784929</li></ol>\n"
      ],
      "text/latex": [
       "\\begin{enumerate*}\n",
       "\\item 11.0803659580077\n",
       "\\item 10.581393238222\n",
       "\\item 9.02829884206524\n",
       "\\item 10.8909832815536\n",
       "\\item 10.5957361784929\n",
       "\\end{enumerate*}\n"
      ],
      "text/markdown": [
       "1. 11.0803659580077\n",
       "2. 10.581393238222\n",
       "3. 9.02829884206524\n",
       "4. 10.8909832815536\n",
       "5. 10.5957361784929\n",
       "\n",
       "\n"
      ],
      "text/plain": [
       "[1] 11.080366 10.581393  9.028299 10.890983 10.595736"
      ]
     },
     "metadata": {},
     "output_type": "display_data"
    }
   ],
   "source": [
    "rnorm (5, 10, 1)"
   ]
  },
  {
   "cell_type": "code",
   "execution_count": 68,
   "id": "cc5bf5b5",
   "metadata": {},
   "outputs": [
    {
     "data": {
      "text/html": [
       "<style>\n",
       ".list-inline {list-style: none; margin:0; padding: 0}\n",
       ".list-inline>li {display: inline-block}\n",
       ".list-inline>li:not(:last-child)::after {content: \"\\00b7\"; padding: 0 .5ex}\n",
       "</style>\n",
       "<ol class=list-inline><li>9.1591445192137</li><li>11.3843593434786</li><li>8.74450813737233</li><li>10.0701427664273</li><li>11.7114408727024</li></ol>\n"
      ],
      "text/latex": [
       "\\begin{enumerate*}\n",
       "\\item 9.1591445192137\n",
       "\\item 11.3843593434786\n",
       "\\item 8.74450813737233\n",
       "\\item 10.0701427664273\n",
       "\\item 11.7114408727024\n",
       "\\end{enumerate*}\n"
      ],
      "text/markdown": [
       "1. 9.1591445192137\n",
       "2. 11.3843593434786\n",
       "3. 8.74450813737233\n",
       "4. 10.0701427664273\n",
       "5. 11.7114408727024\n",
       "\n",
       "\n"
      ],
      "text/plain": [
       "[1]  9.159145 11.384359  8.744508 10.070143 11.711441"
      ]
     },
     "metadata": {},
     "output_type": "display_data"
    }
   ],
   "source": [
    "set.seed(5)\n",
    "rnorm (5, 10, 1)"
   ]
  },
  {
   "cell_type": "code",
   "execution_count": 69,
   "id": "17083821",
   "metadata": {},
   "outputs": [
    {
     "data": {
      "text/html": [
       "<style>\n",
       ".list-inline {list-style: none; margin:0; padding: 0}\n",
       ".list-inline>li {display: inline-block}\n",
       ".list-inline>li:not(:last-child)::after {content: \"\\00b7\"; padding: 0 .5ex}\n",
       "</style>\n",
       "<ol class=list-inline><li>9.1591445192137</li><li>11.3843593434786</li><li>8.74450813737233</li><li>10.0701427664273</li><li>11.7114408727024</li></ol>\n"
      ],
      "text/latex": [
       "\\begin{enumerate*}\n",
       "\\item 9.1591445192137\n",
       "\\item 11.3843593434786\n",
       "\\item 8.74450813737233\n",
       "\\item 10.0701427664273\n",
       "\\item 11.7114408727024\n",
       "\\end{enumerate*}\n"
      ],
      "text/markdown": [
       "1. 9.1591445192137\n",
       "2. 11.3843593434786\n",
       "3. 8.74450813737233\n",
       "4. 10.0701427664273\n",
       "5. 11.7114408727024\n",
       "\n",
       "\n"
      ],
      "text/plain": [
       "[1]  9.159145 11.384359  8.744508 10.070143 11.711441"
      ]
     },
     "metadata": {},
     "output_type": "display_data"
    }
   ],
   "source": [
    "set.seed(5)\n",
    "rnorm (5, 10, 1)"
   ]
  },
  {
   "cell_type": "markdown",
   "id": "0b6d0045",
   "metadata": {},
   "source": [
    "### Q5\n",
    "* Create a new column in `coral_health_tbl` called `coral_cover`. This column represents coral cover values for the corals observed in your tibble\n",
    "* For the healthy coral (`is_diseased == FALSE`), sample the cover values from a normal with a mean of 9 and standard deviation of 2\n",
    "* For the diseased corals (`health_status = TRUE`), sample the cover values from a normal with mean 1 and std of 3\n",
    "* Note that this is a perfect scenario for using `mapply`\n"
   ]
  },
  {
   "cell_type": "code",
   "execution_count": 119,
   "id": "de8efd8c",
   "metadata": {},
   "outputs": [
    {
     "data": {
      "text/html": [
       "<table class=\"dataframe\">\n",
       "<caption>A tibble: 6 × 3</caption>\n",
       "<thead>\n",
       "\t<tr><th scope=col>coral</th><th scope=col>is_diseased</th><th scope=col>coral_cover</th></tr>\n",
       "\t<tr><th scope=col>&lt;chr&gt;</th><th scope=col>&lt;chr&gt;</th><th scope=col>&lt;dbl&gt;</th></tr>\n",
       "</thead>\n",
       "<tbody>\n",
       "\t<tr><td>Porites lobata    </td><td>FALSE</td><td>10.1818</td></tr>\n",
       "\t<tr><td>Porites compressa </td><td>TRUE </td><td>10.1818</td></tr>\n",
       "\t<tr><td>Porites compressa </td><td>TRUE </td><td>10.1818</td></tr>\n",
       "\t<tr><td>Porites lobata    </td><td>TRUE </td><td>10.1818</td></tr>\n",
       "\t<tr><td>Porites lobata    </td><td>TRUE </td><td>10.1818</td></tr>\n",
       "\t<tr><td>Montipora capitata</td><td>TRUE </td><td>10.1818</td></tr>\n",
       "</tbody>\n",
       "</table>\n"
      ],
      "text/latex": [
       "A tibble: 6 × 3\n",
       "\\begin{tabular}{lll}\n",
       " coral & is\\_diseased & coral\\_cover\\\\\n",
       " <chr> & <chr> & <dbl>\\\\\n",
       "\\hline\n",
       "\t Porites lobata     & FALSE & 10.1818\\\\\n",
       "\t Porites compressa  & TRUE  & 10.1818\\\\\n",
       "\t Porites compressa  & TRUE  & 10.1818\\\\\n",
       "\t Porites lobata     & TRUE  & 10.1818\\\\\n",
       "\t Porites lobata     & TRUE  & 10.1818\\\\\n",
       "\t Montipora capitata & TRUE  & 10.1818\\\\\n",
       "\\end{tabular}\n"
      ],
      "text/markdown": [
       "\n",
       "A tibble: 6 × 3\n",
       "\n",
       "| coral &lt;chr&gt; | is_diseased &lt;chr&gt; | coral_cover &lt;dbl&gt; |\n",
       "|---|---|---|\n",
       "| Porites lobata     | FALSE | 10.1818 |\n",
       "| Porites compressa  | TRUE  | 10.1818 |\n",
       "| Porites compressa  | TRUE  | 10.1818 |\n",
       "| Porites lobata     | TRUE  | 10.1818 |\n",
       "| Porites lobata     | TRUE  | 10.1818 |\n",
       "| Montipora capitata | TRUE  | 10.1818 |\n",
       "\n"
      ],
      "text/plain": [
       "  coral              is_diseased coral_cover\n",
       "1 Porites lobata     FALSE       10.1818    \n",
       "2 Porites compressa  TRUE        10.1818    \n",
       "3 Porites compressa  TRUE        10.1818    \n",
       "4 Porites lobata     TRUE        10.1818    \n",
       "5 Porites lobata     TRUE        10.1818    \n",
       "6 Montipora capitata TRUE        10.1818    "
      ]
     },
     "metadata": {},
     "output_type": "display_data"
    }
   ],
   "source": [
    "# Write your code here\n",
    "head(coral_health_tbl)"
   ]
  },
  {
   "cell_type": "code",
   "execution_count": 123,
   "id": "fd1f8a9e",
   "metadata": {},
   "outputs": [
    {
     "data": {
      "text/html": [
       "<style>\n",
       ".list-inline {list-style: none; margin:0; padding: 0}\n",
       ".list-inline>li {display: inline-block}\n",
       ".list-inline>li:not(:last-child)::after {content: \"\\00b7\"; padding: 0 .5ex}\n",
       "</style>\n",
       "<ol class=list-inline><li>83</li><li>3</li></ol>\n"
      ],
      "text/latex": [
       "\\begin{enumerate*}\n",
       "\\item 83\n",
       "\\item 3\n",
       "\\end{enumerate*}\n"
      ],
      "text/markdown": [
       "1. 83\n",
       "2. 3\n",
       "\n",
       "\n"
      ],
      "text/plain": [
       "[1] 83  3"
      ]
     },
     "metadata": {},
     "output_type": "display_data"
    }
   ],
   "source": [
    "diseased_lines <- coral_health_tbl[\"is_diseased\"]==TRUE\n",
    "dim(subset(coral_health_tbl, diseased_lines))"
   ]
  },
  {
   "cell_type": "code",
   "execution_count": 124,
   "id": "bc9d5a70",
   "metadata": {},
   "outputs": [
    {
     "data": {
      "text/html": [
       "<style>\n",
       ".list-inline {list-style: none; margin:0; padding: 0}\n",
       ".list-inline>li {display: inline-block}\n",
       ".list-inline>li:not(:last-child)::after {content: \"\\00b7\"; padding: 0 .5ex}\n",
       "</style>\n",
       "<ol class=list-inline><li>17</li><li>3</li></ol>\n"
      ],
      "text/latex": [
       "\\begin{enumerate*}\n",
       "\\item 17\n",
       "\\item 3\n",
       "\\end{enumerate*}\n"
      ],
      "text/markdown": [
       "1. 17\n",
       "2. 3\n",
       "\n",
       "\n"
      ],
      "text/plain": [
       "[1] 17  3"
      ]
     },
     "metadata": {},
     "output_type": "display_data"
    }
   ],
   "source": [
    "not_diseased_lines <- coral_health_tbl[\"is_diseased\"]==FALSE\n",
    "dim(subset(coral_health_tbl, not_diseased_lines))"
   ]
  },
  {
   "cell_type": "code",
   "execution_count": 138,
   "id": "93c7d839",
   "metadata": {},
   "outputs": [],
   "source": [
    "values_not_diseased <- rnorm(17, 9, 2)\n",
    "values_diseased <- rnorm(83, 1, 3)\n",
    "coral_health_tbl$coral_cover[coral_health_tbl$is_diseased == FALSE] <- values_not_diseased\n",
    "coral_health_tbl$coral_cover[coral_health_tbl$is_diseased == TRUE] <- values_diseased"
   ]
  },
  {
   "cell_type": "code",
   "execution_count": 141,
   "id": "10903bf9",
   "metadata": {},
   "outputs": [
    {
     "data": {
      "text/html": [
       "<table class=\"dataframe\">\n",
       "<caption>A tibble: 6 × 3</caption>\n",
       "<thead>\n",
       "\t<tr><th scope=col>coral</th><th scope=col>is_diseased</th><th scope=col>coral_cover</th></tr>\n",
       "\t<tr><th scope=col>&lt;chr&gt;</th><th scope=col>&lt;chr&gt;</th><th scope=col>&lt;dbl&gt;</th></tr>\n",
       "</thead>\n",
       "<tbody>\n",
       "\t<tr><td>Porites lobata    </td><td>FALSE</td><td>11.4010875</td></tr>\n",
       "\t<tr><td>Porites compressa </td><td>TRUE </td><td>-1.3216941</td></tr>\n",
       "\t<tr><td>Porites compressa </td><td>TRUE </td><td>-0.8787802</td></tr>\n",
       "\t<tr><td>Porites lobata    </td><td>TRUE </td><td> 6.2230435</td></tr>\n",
       "\t<tr><td>Porites lobata    </td><td>TRUE </td><td> 0.8458073</td></tr>\n",
       "\t<tr><td>Montipora capitata</td><td>TRUE </td><td> 3.8952583</td></tr>\n",
       "</tbody>\n",
       "</table>\n"
      ],
      "text/latex": [
       "A tibble: 6 × 3\n",
       "\\begin{tabular}{lll}\n",
       " coral & is\\_diseased & coral\\_cover\\\\\n",
       " <chr> & <chr> & <dbl>\\\\\n",
       "\\hline\n",
       "\t Porites lobata     & FALSE & 11.4010875\\\\\n",
       "\t Porites compressa  & TRUE  & -1.3216941\\\\\n",
       "\t Porites compressa  & TRUE  & -0.8787802\\\\\n",
       "\t Porites lobata     & TRUE  &  6.2230435\\\\\n",
       "\t Porites lobata     & TRUE  &  0.8458073\\\\\n",
       "\t Montipora capitata & TRUE  &  3.8952583\\\\\n",
       "\\end{tabular}\n"
      ],
      "text/markdown": [
       "\n",
       "A tibble: 6 × 3\n",
       "\n",
       "| coral &lt;chr&gt; | is_diseased &lt;chr&gt; | coral_cover &lt;dbl&gt; |\n",
       "|---|---|---|\n",
       "| Porites lobata     | FALSE | 11.4010875 |\n",
       "| Porites compressa  | TRUE  | -1.3216941 |\n",
       "| Porites compressa  | TRUE  | -0.8787802 |\n",
       "| Porites lobata     | TRUE  |  6.2230435 |\n",
       "| Porites lobata     | TRUE  |  0.8458073 |\n",
       "| Montipora capitata | TRUE  |  3.8952583 |\n",
       "\n"
      ],
      "text/plain": [
       "  coral              is_diseased coral_cover\n",
       "1 Porites lobata     FALSE       11.4010875 \n",
       "2 Porites compressa  TRUE        -1.3216941 \n",
       "3 Porites compressa  TRUE        -0.8787802 \n",
       "4 Porites lobata     TRUE         6.2230435 \n",
       "5 Porites lobata     TRUE         0.8458073 \n",
       "6 Montipora capitata TRUE         3.8952583 "
      ]
     },
     "metadata": {},
     "output_type": "display_data"
    }
   ],
   "source": [
    "head(coral_health_tbl)"
   ]
  },
  {
   "cell_type": "markdown",
   "id": "7e7af1ce",
   "metadata": {},
   "source": [
    "### Q6\n",
    "\n",
    "* Add another column called `binary_health_status`.\n",
    " * set the column to 0 if `is_diseased == FALSE`\n",
    " * set the column to 1 if `is_diseased == TRUE`\n",
    "\n",
    "* A trick here is to remember that:\n",
    "  1. Corecing (converting) a logical can be done with `as.integer()`\n",
    "  2. `as.integer(TRUE)` returns 1\n",
    "  3. `as.integer(FALSE)` returns 0\n",
    "\n",
    "\n"
   ]
  },
  {
   "cell_type": "code",
   "execution_count": 143,
   "id": "a8a89565",
   "metadata": {},
   "outputs": [
    {
     "ename": "ERROR",
     "evalue": "Error in eval(expr, envir, enclos): object 'binary_health_status' not found\n",
     "output_type": "error",
     "traceback": [
      "Error in eval(expr, envir, enclos): object 'binary_health_status' not found\nTraceback:\n"
     ]
    }
   ],
   "source": []
  },
  {
   "cell_type": "code",
   "execution_count": null,
   "id": "6c3c1bfc",
   "metadata": {},
   "outputs": [],
   "source": [
    "coral_health_tbl[\"binary_health_status\"] <- binary_health_status"
   ]
  },
  {
   "cell_type": "code",
   "execution_count": null,
   "id": "039dce8b",
   "metadata": {},
   "outputs": [],
   "source": []
  },
  {
   "cell_type": "markdown",
   "id": "a6e28e80",
   "metadata": {},
   "source": [
    "### Q7\n",
    "\n",
    "* Plot the distribution of `coral_cover` for healthy versus diseased corals\n",
    "* Note that I am using the histogram `geom`\n",
    "  * Histograms need only an `x`-axis because the `y` is typically computed as the number of items occurring in a bin of some predetermined width.\n",
    "    * However, instead of a raw count, we want a normalized count. You can normalize the count by setting `y = stat(count / sum(count))`  \n",
    "  * I am coloring the bin outlines in black and filling in grey for disease and white for healthy\n",
    "  * I am using `binwidth=1'.\n",
    "* Use the `labs` function to add a title and to change the labels for the `x` and `y` axes\n",
    "* The plot should look \"somewhat\" like the following\n",
    "![](https://www.dropbox.com/s/wdbdj05rd50vb0k/healthy-diseased.png?dl=1)"
   ]
  },
  {
   "cell_type": "code",
   "execution_count": null,
   "id": "8ab872f1",
   "metadata": {},
   "outputs": [],
   "source": []
  },
  {
   "cell_type": "code",
   "execution_count": null,
   "id": "17f978dc",
   "metadata": {},
   "outputs": [],
   "source": []
  },
  {
   "cell_type": "code",
   "execution_count": null,
   "id": "a2a54918",
   "metadata": {},
   "outputs": [],
   "source": []
  },
  {
   "cell_type": "code",
   "execution_count": null,
   "id": "308f610d",
   "metadata": {},
   "outputs": [],
   "source": []
  },
  {
   "cell_type": "code",
   "execution_count": null,
   "id": "1d872ece",
   "metadata": {},
   "outputs": [],
   "source": []
  },
  {
   "cell_type": "code",
   "execution_count": null,
   "id": "c8cee801",
   "metadata": {},
   "outputs": [],
   "source": []
  },
  {
   "cell_type": "code",
   "execution_count": null,
   "id": "30581c75",
   "metadata": {},
   "outputs": [],
   "source": []
  },
  {
   "cell_type": "markdown",
   "id": "5a9538df",
   "metadata": {},
   "source": [
    "### Q8\n",
    "\n",
    "* Use `geom_density` to mirror the information conveyed in the histogram above using density curves instead of histograms.\n",
    "  * Set the `adjust` parameter of `geom_density` to `2`\n",
    "* Change the `xlim` scale so that we can see the edges of the curves\n",
    "  * I.e., curves should not be cut off\n",
    "  \n",
    "* The resulting curve will look like the following\n",
    "![](https://www.dropbox.com/s/rs4rx0w6ur8p5wq/coral_distr_practical.png?dl=1)\n"
   ]
  },
  {
   "cell_type": "markdown",
   "id": "8c811bda",
   "metadata": {},
   "source": [
    "### Q9\n",
    "\n",
    "You have been provided with the dataset illustrated in the image below, which contains counts for 20 fish species across 5 locations. For convenience, only two species and 2 locations are illustrated here. Based on your knowledge of tidy data, how can you format the data shown in this file in a way that is considered `tidy`. Provide an image of a hand-drawn table (or tables if needed) that represents the table format. Briefly justify your answer in a 3-4 sentences.\n",
    "\n",
    "\n",
    "![](https://www.dropbox.com/s/ucvj0gburg8at60/tidy_data.png?dl=1)"
   ]
  },
  {
   "cell_type": "markdown",
   "id": "784fa644",
   "metadata": {},
   "source": [
    "### Q10 -- Challenge (Optional)\n",
    "\n",
    "\n",
    "Recall problem `8` in the airquality dataset.\n",
    "  * Remember that you can import that dataset using `data(airquality)`\n",
    "1. Convert the `airquality` dataframe to a tibble called `airq_tbl`\n",
    "2. Replace the missing values for Solar.R using that month's average.\n",
    "    * Example:\n",
    "        * The missing value for line 6 in `airq_tbl`should be replaced with the average for month 5.\n",
    "        * The missing value for line 97 in `airq_tbl` should be replaced with the average for month 8.\n",
    "\n",
    "* Strategy:\n",
    "  1. Compute the average values for months 5, 6, 7, 8, and 9 in a names vector called `monthly_avg_SolarR`\n",
    "      * monthly_avg_SolarR[5] should return the average for May.\n",
    "      * monthly_avg_SolarR[6] should return the average for June.\n",
    "      * etc.\n",
    "      * This is an ideal use case for `tapply` with `na.rm=TRUE` (ask me!)\n",
    "  2. for each line of airq_tbl check value of Solar.R and do:\n",
    "    * if value is not `na`, return the value\n",
    "    * if value if `na`; return avg associated with `Month`\n",
    "    * This is an ideal case for `apply`\n",
    "      * You need to write your own function (call it `fix_missing_solar_R`)\n",
    "      * Recall that the argument to that function is a complete row as a vector!\n",
    "    * test your function with the following line to make sure it's working\n",
    "    ```fix_missing_solar_R(airq_tbl[5,])```"
   ]
  }
 ],
 "metadata": {
  "kernelspec": {
   "display_name": "R",
   "language": "R",
   "name": "ir"
  },
  "language_info": {
   "codemirror_mode": "r",
   "file_extension": ".r",
   "mimetype": "text/x-r-source",
   "name": "R",
   "pygments_lexer": "r",
   "version": "4.2.1"
  }
 },
 "nbformat": 4,
 "nbformat_minor": 5
}
