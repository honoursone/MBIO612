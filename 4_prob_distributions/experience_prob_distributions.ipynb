{
 "cells": [
  {
   "cell_type": "markdown",
   "id": "b2071a66",
   "metadata": {
    "pycharm": {
     "name": "#%%\n"
    }
   },
   "source": [
    "library(tidyverse)\n",
    "library(ggplot2)"
   ]
  },
  {
   "cell_type": "markdown",
   "id": "526a84d8",
   "metadata": {
    "pycharm": {
     "name": "#%% md\n"
    }
   },
   "source": [
    "### Q0\n",
    "\n",
    "* Draw a concepts diagram that uses all the following terminology covered in this module\n",
    "\n",
    "* Probability mass function, outcome, experiment, sample space, Gaussian, probability distribution, binomial, maximum likelihood, parameters, mean and variance, lambda, sample, p-value"
   ]
  },
  {
   "cell_type": "code",
   "execution_count": 1,
   "id": "ef2e6b4d",
   "metadata": {
    "pycharm": {
     "name": "#%%\n"
    }
   },
   "outputs": [],
   "source": [
    "### Write your code here\n",
    "\n"
   ]
  },
  {
   "cell_type": "markdown",
   "id": "b4207bca",
   "metadata": {
    "pycharm": {
     "name": "#%% md\n"
    }
   },
   "source": [
    "###  Q1\n",
    "Write a function that returns the sample space for the experiment consisting of sampling a 4 digit PIN\n",
    "  * Call your function get_all_perms\n",
    "\n",
    "  * Essentially, your function does not take any arguments but returns the sample space consisting of all the four digit numbers\n",
    "   \n",
    "  * The function `expand.grid` expand.grid creates a data frame from all combinations of the supplied vectors or factors. For example:\n",
    " \n",
    "  ```expand.grid(0:1, 0:1, 0:1)```\n",
    "\n",
    "* generates  \n",
    "\n",
    "![](https://www.dropbox.com/s/cnlt4fg8rxd01d6/expand.grid.png?dl=1)\n",
    " \n",
    "\n",
    "* Strategy, use `expand.grid` to generate the permutation for four verctation in the range 0:9\n",
    "  * Return the number of rows in that `data.frame`\n",
    "\n",
    "  "
   ]
  },
  {
   "cell_type": "code",
   "execution_count": 9,
   "id": "e559210c",
   "metadata": {
    "pycharm": {
     "name": "#%%\n"
    }
   },
   "outputs": [],
   "source": [
    "### Write your code here\n",
    "\n",
    "get_all_perms <- function () {\n",
    "    pins <- sample(expand.grid(0:9, 0:9, 0:9, 0:9), 4,replace = TRUE)\n",
    "    nrow(pins)\n",
    "}"
   ]
  },
  {
   "cell_type": "code",
   "execution_count": 10,
   "id": "5c7bf775",
   "metadata": {
    "pycharm": {
     "name": "#%%\n"
    }
   },
   "outputs": [
    {
     "data": {
      "text/html": [
       "10000"
      ],
      "text/latex": [
       "10000"
      ],
      "text/markdown": [
       "10000"
      ],
      "text/plain": [
       "[1] 10000"
      ]
     },
     "metadata": {},
     "output_type": "display_data"
    }
   ],
   "source": [
    "# Running this should return 10,000\n",
    "get_all_perms()"
   ]
  },
  {
   "cell_type": "markdown",
   "id": "7b5f5dec",
   "metadata": {
    "pycharm": {
     "name": "#%% md\n"
    }
   },
   "source": [
    "###  Q2\n",
    "\n",
    "The function above is not very useful since it always computes the same thing, namely the number of possible permutation of digits. One way to make it more useful is by passing as an argument the number of digits to consider, i.e., the number of columns in `expand.grid`. Let;s call that param `size`, which by default should be `4`. For exmaple:\n",
    "\n",
    "*  `get_all_perms(size = 1 )` will return all the number of size 1 (0-9)\n",
    "*  `get_all_perms(size = 3 )` will return all the permutations of size 3 (000 - to 999)\n",
    "\n",
    "\n",
    "* Hint: `expand.grid` requires the number of input parameters to match the permutation length. We need to automate that so that the number of vectors passed as input matches the `size` values passed into `get_all_perms`\n",
    "  * We can do that using `replicate`\n",
    "  * `replicate(2, c(1,2,3), simplify=FALSE)` will repeat the vector `c(1,2,3)` twice\n",
    "    * We need to pass `replicate` the value `simplify=FALSE` so that it does not convert the output for us into a matrix\n",
    "  * Use pipe (`%>%`) pass the output of `replicate` into expand.grid\n",
    "  * Make sure replicated generate the correct input for exand.grid\n",
    "  "
   ]
  },
  {
   "cell_type": "code",
   "execution_count": 3,
   "id": "a45bbd1d",
   "metadata": {
    "pycharm": {
     "name": "#%%\n"
    }
   },
   "outputs": [],
   "source": [
    "### Write your code here\n",
    "get_all_perms(size = 1)\n"
   ]
  },
  {
   "cell_type": "markdown",
   "id": "d826dbff",
   "metadata": {
    "pycharm": {
     "name": "#%% md\n"
    }
   },
   "source": [
    "###  Q3\n",
    "\n",
    "* Given a fish disease that occurs with a probability of p= 0.43\n",
    "* You sampled 340 animals\n",
    "* How many of these animals should you expect to see the disease in?\n",
    "* Hint: you will need to compute the probability of each element of the sample space and find the value that has the highest probability"
   ]
  },
  {
   "cell_type": "code",
   "execution_count": 11,
   "id": "316a98cd",
   "metadata": {},
   "outputs": [],
   "source": [
    "library(tidyverse)\n",
    "library(ggplot2)"
   ]
  },
  {
   "cell_type": "code",
   "execution_count": 12,
   "id": "fdb260b5",
   "metadata": {},
   "outputs": [
    {
     "data": {
      "text/html": [
       "<style>\n",
       ".list-inline {list-style: none; margin:0; padding: 0}\n",
       ".list-inline>li {display: inline-block}\n",
       ".list-inline>li:not(:last-child)::after {content: \"\\00b7\"; padding: 0 .5ex}\n",
       "</style>\n",
       "<ol class=list-inline><li>1</li><li>0</li><li>1</li><li>0</li><li>0</li><li>1</li><li>1</li><li>1</li><li>0</li><li>1</li><li>0</li><li>0</li><li>0</li><li>1</li><li>0</li><li>1</li><li>0</li><li>1</li><li>1</li><li>0</li><li>0</li><li>1</li><li>1</li><li>1</li><li>0</li><li>1</li><li>0</li><li>0</li><li>0</li><li>0</li><li>0</li><li>1</li><li>1</li><li>1</li><li>0</li><li>1</li><li>0</li><li>0</li><li>1</li><li>1</li><li>1</li><li>0</li><li>0</li><li>0</li><li>1</li><li>0</li><li>1</li><li>1</li><li>0</li><li>0</li><li>1</li><li>1</li><li>1</li><li>1</li><li>1</li><li>1</li><li>0</li><li>1</li><li>1</li><li>1</li><li>1</li><li>0</li><li>1</li><li>1</li><li>0</li><li>0</li><li>1</li><li>1</li><li>1</li><li>1</li><li>1</li><li>0</li><li>1</li><li>1</li><li>0</li><li>0</li><li>0</li><li>1</li><li>1</li><li>0</li><li>0</li><li>0</li><li>1</li><li>1</li><li>1</li><li>0</li><li>0</li><li>0</li><li>0</li><li>1</li><li>1</li><li>0</li><li>0</li><li>0</li><li>1</li><li>1</li><li>1</li><li>1</li><li>1</li><li>0</li><li>0</li><li>1</li><li>1</li><li>0</li><li>0</li><li>0</li><li>1</li><li>0</li><li>0</li><li>1</li><li>0</li><li>0</li><li>0</li><li>0</li><li>0</li><li>0</li><li>0</li><li>0</li><li>1</li><li>0</li><li>0</li><li>1</li><li>1</li><li>1</li><li>0</li><li>0</li><li>0</li><li>1</li><li>0</li><li>1</li><li>1</li><li>0</li><li>1</li><li>0</li><li>1</li><li>0</li><li>0</li><li>1</li><li>1</li><li>1</li><li>0</li><li>0</li><li>1</li><li>0</li><li>1</li><li>1</li><li>1</li><li>1</li><li>1</li><li>1</li><li>1</li><li>0</li><li>1</li><li>1</li><li>1</li><li>1</li><li>1</li><li>0</li><li>0</li><li>0</li><li>0</li><li>0</li><li>0</li><li>1</li><li>1</li><li>0</li><li>0</li><li>0</li><li>0</li><li>1</li><li>1</li><li>1</li><li>0</li><li>1</li><li>1</li><li>1</li><li>1</li><li>1</li><li>1</li><li>0</li><li>0</li><li>0</li><li>1</li><li>0</li><li>1</li><li>1</li><li>1</li><li>0</li><li>1</li><li>1</li><li>1</li><li>1</li><li>0</li><li>1</li><li>1</li><li>1</li><li>0</li><li>0</li><li>1</li><li>1</li><li>0</li><li>1</li><li>1</li><li>1</li><li>0</li><li>1</li><li>0</li><li>1</li><li>1</li><li>1</li><li>1</li><li>1</li><li>1</li><li>1</li><li>1</li><li>0</li><li>0</li><li>1</li><li>0</li><li>1</li><li>1</li><li>1</li><li>1</li><li>1</li><li>1</li><li>1</li><li>1</li><li>1</li><li>1</li><li>1</li><li>0</li><li>1</li><li>1</li><li>1</li><li>1</li><li>1</li><li>0</li><li>1</li><li>1</li><li>0</li><li>0</li><li>0</li><li>1</li><li>1</li><li>0</li><li>1</li><li>1</li><li>0</li><li>1</li><li>0</li><li>0</li><li>1</li><li>0</li><li>1</li><li>1</li><li>0</li><li>1</li><li>1</li><li>1</li><li>1</li><li>1</li><li>1</li><li>1</li><li>1</li><li>0</li><li>1</li><li>1</li><li>1</li><li>1</li><li>1</li><li>1</li><li>0</li><li>0</li><li>1</li><li>1</li><li>1</li><li>1</li><li>0</li><li>0</li><li>1</li><li>1</li><li>1</li><li>1</li><li>1</li><li>1</li><li>0</li><li>0</li><li>1</li><li>1</li><li>1</li><li>1</li><li>1</li><li>0</li><li>1</li><li>1</li><li>1</li><li>0</li><li>1</li><li>0</li><li>0</li><li>0</li><li>1</li><li>1</li><li>1</li><li>1</li><li>1</li><li>0</li><li>1</li><li>0</li><li>0</li><li>0</li><li>0</li><li>1</li><li>1</li><li>1</li><li>0</li><li>1</li><li>1</li><li>1</li><li>0</li><li>1</li><li>1</li><li>1</li><li>0</li><li>1</li><li>1</li><li>1</li><li>0</li><li>1</li><li>0</li><li>0</li><li>1</li><li>0</li><li>1</li><li>1</li><li>0</li><li>1</li><li>0</li><li>0</li><li>1</li></ol>\n"
      ],
      "text/latex": [
       "\\begin{enumerate*}\n",
       "\\item 1\n",
       "\\item 0\n",
       "\\item 1\n",
       "\\item 0\n",
       "\\item 0\n",
       "\\item 1\n",
       "\\item 1\n",
       "\\item 1\n",
       "\\item 0\n",
       "\\item 1\n",
       "\\item 0\n",
       "\\item 0\n",
       "\\item 0\n",
       "\\item 1\n",
       "\\item 0\n",
       "\\item 1\n",
       "\\item 0\n",
       "\\item 1\n",
       "\\item 1\n",
       "\\item 0\n",
       "\\item 0\n",
       "\\item 1\n",
       "\\item 1\n",
       "\\item 1\n",
       "\\item 0\n",
       "\\item 1\n",
       "\\item 0\n",
       "\\item 0\n",
       "\\item 0\n",
       "\\item 0\n",
       "\\item 0\n",
       "\\item 1\n",
       "\\item 1\n",
       "\\item 1\n",
       "\\item 0\n",
       "\\item 1\n",
       "\\item 0\n",
       "\\item 0\n",
       "\\item 1\n",
       "\\item 1\n",
       "\\item 1\n",
       "\\item 0\n",
       "\\item 0\n",
       "\\item 0\n",
       "\\item 1\n",
       "\\item 0\n",
       "\\item 1\n",
       "\\item 1\n",
       "\\item 0\n",
       "\\item 0\n",
       "\\item 1\n",
       "\\item 1\n",
       "\\item 1\n",
       "\\item 1\n",
       "\\item 1\n",
       "\\item 1\n",
       "\\item 0\n",
       "\\item 1\n",
       "\\item 1\n",
       "\\item 1\n",
       "\\item 1\n",
       "\\item 0\n",
       "\\item 1\n",
       "\\item 1\n",
       "\\item 0\n",
       "\\item 0\n",
       "\\item 1\n",
       "\\item 1\n",
       "\\item 1\n",
       "\\item 1\n",
       "\\item 1\n",
       "\\item 0\n",
       "\\item 1\n",
       "\\item 1\n",
       "\\item 0\n",
       "\\item 0\n",
       "\\item 0\n",
       "\\item 1\n",
       "\\item 1\n",
       "\\item 0\n",
       "\\item 0\n",
       "\\item 0\n",
       "\\item 1\n",
       "\\item 1\n",
       "\\item 1\n",
       "\\item 0\n",
       "\\item 0\n",
       "\\item 0\n",
       "\\item 0\n",
       "\\item 1\n",
       "\\item 1\n",
       "\\item 0\n",
       "\\item 0\n",
       "\\item 0\n",
       "\\item 1\n",
       "\\item 1\n",
       "\\item 1\n",
       "\\item 1\n",
       "\\item 1\n",
       "\\item 0\n",
       "\\item 0\n",
       "\\item 1\n",
       "\\item 1\n",
       "\\item 0\n",
       "\\item 0\n",
       "\\item 0\n",
       "\\item 1\n",
       "\\item 0\n",
       "\\item 0\n",
       "\\item 1\n",
       "\\item 0\n",
       "\\item 0\n",
       "\\item 0\n",
       "\\item 0\n",
       "\\item 0\n",
       "\\item 0\n",
       "\\item 0\n",
       "\\item 0\n",
       "\\item 1\n",
       "\\item 0\n",
       "\\item 0\n",
       "\\item 1\n",
       "\\item 1\n",
       "\\item 1\n",
       "\\item 0\n",
       "\\item 0\n",
       "\\item 0\n",
       "\\item 1\n",
       "\\item 0\n",
       "\\item 1\n",
       "\\item 1\n",
       "\\item 0\n",
       "\\item 1\n",
       "\\item 0\n",
       "\\item 1\n",
       "\\item 0\n",
       "\\item 0\n",
       "\\item 1\n",
       "\\item 1\n",
       "\\item 1\n",
       "\\item 0\n",
       "\\item 0\n",
       "\\item 1\n",
       "\\item 0\n",
       "\\item 1\n",
       "\\item 1\n",
       "\\item 1\n",
       "\\item 1\n",
       "\\item 1\n",
       "\\item 1\n",
       "\\item 1\n",
       "\\item 0\n",
       "\\item 1\n",
       "\\item 1\n",
       "\\item 1\n",
       "\\item 1\n",
       "\\item 1\n",
       "\\item 0\n",
       "\\item 0\n",
       "\\item 0\n",
       "\\item 0\n",
       "\\item 0\n",
       "\\item 0\n",
       "\\item 1\n",
       "\\item 1\n",
       "\\item 0\n",
       "\\item 0\n",
       "\\item 0\n",
       "\\item 0\n",
       "\\item 1\n",
       "\\item 1\n",
       "\\item 1\n",
       "\\item 0\n",
       "\\item 1\n",
       "\\item 1\n",
       "\\item 1\n",
       "\\item 1\n",
       "\\item 1\n",
       "\\item 1\n",
       "\\item 0\n",
       "\\item 0\n",
       "\\item 0\n",
       "\\item 1\n",
       "\\item 0\n",
       "\\item 1\n",
       "\\item 1\n",
       "\\item 1\n",
       "\\item 0\n",
       "\\item 1\n",
       "\\item 1\n",
       "\\item 1\n",
       "\\item 1\n",
       "\\item 0\n",
       "\\item 1\n",
       "\\item 1\n",
       "\\item 1\n",
       "\\item 0\n",
       "\\item 0\n",
       "\\item 1\n",
       "\\item 1\n",
       "\\item 0\n",
       "\\item 1\n",
       "\\item 1\n",
       "\\item 1\n",
       "\\item 0\n",
       "\\item 1\n",
       "\\item 0\n",
       "\\item 1\n",
       "\\item 1\n",
       "\\item 1\n",
       "\\item 1\n",
       "\\item 1\n",
       "\\item 1\n",
       "\\item 1\n",
       "\\item 1\n",
       "\\item 0\n",
       "\\item 0\n",
       "\\item 1\n",
       "\\item 0\n",
       "\\item 1\n",
       "\\item 1\n",
       "\\item 1\n",
       "\\item 1\n",
       "\\item 1\n",
       "\\item 1\n",
       "\\item 1\n",
       "\\item 1\n",
       "\\item 1\n",
       "\\item 1\n",
       "\\item 1\n",
       "\\item 0\n",
       "\\item 1\n",
       "\\item 1\n",
       "\\item 1\n",
       "\\item 1\n",
       "\\item 1\n",
       "\\item 0\n",
       "\\item 1\n",
       "\\item 1\n",
       "\\item 0\n",
       "\\item 0\n",
       "\\item 0\n",
       "\\item 1\n",
       "\\item 1\n",
       "\\item 0\n",
       "\\item 1\n",
       "\\item 1\n",
       "\\item 0\n",
       "\\item 1\n",
       "\\item 0\n",
       "\\item 0\n",
       "\\item 1\n",
       "\\item 0\n",
       "\\item 1\n",
       "\\item 1\n",
       "\\item 0\n",
       "\\item 1\n",
       "\\item 1\n",
       "\\item 1\n",
       "\\item 1\n",
       "\\item 1\n",
       "\\item 1\n",
       "\\item 1\n",
       "\\item 1\n",
       "\\item 0\n",
       "\\item 1\n",
       "\\item 1\n",
       "\\item 1\n",
       "\\item 1\n",
       "\\item 1\n",
       "\\item 1\n",
       "\\item 0\n",
       "\\item 0\n",
       "\\item 1\n",
       "\\item 1\n",
       "\\item 1\n",
       "\\item 1\n",
       "\\item 0\n",
       "\\item 0\n",
       "\\item 1\n",
       "\\item 1\n",
       "\\item 1\n",
       "\\item 1\n",
       "\\item 1\n",
       "\\item 1\n",
       "\\item 0\n",
       "\\item 0\n",
       "\\item 1\n",
       "\\item 1\n",
       "\\item 1\n",
       "\\item 1\n",
       "\\item 1\n",
       "\\item 0\n",
       "\\item 1\n",
       "\\item 1\n",
       "\\item 1\n",
       "\\item 0\n",
       "\\item 1\n",
       "\\item 0\n",
       "\\item 0\n",
       "\\item 0\n",
       "\\item 1\n",
       "\\item 1\n",
       "\\item 1\n",
       "\\item 1\n",
       "\\item 1\n",
       "\\item 0\n",
       "\\item 1\n",
       "\\item 0\n",
       "\\item 0\n",
       "\\item 0\n",
       "\\item 0\n",
       "\\item 1\n",
       "\\item 1\n",
       "\\item 1\n",
       "\\item 0\n",
       "\\item 1\n",
       "\\item 1\n",
       "\\item 1\n",
       "\\item 0\n",
       "\\item 1\n",
       "\\item 1\n",
       "\\item 1\n",
       "\\item 0\n",
       "\\item 1\n",
       "\\item 1\n",
       "\\item 1\n",
       "\\item 0\n",
       "\\item 1\n",
       "\\item 0\n",
       "\\item 0\n",
       "\\item 1\n",
       "\\item 0\n",
       "\\item 1\n",
       "\\item 1\n",
       "\\item 0\n",
       "\\item 1\n",
       "\\item 0\n",
       "\\item 0\n",
       "\\item 1\n",
       "\\end{enumerate*}\n"
      ],
      "text/markdown": [
       "1. 1\n",
       "2. 0\n",
       "3. 1\n",
       "4. 0\n",
       "5. 0\n",
       "6. 1\n",
       "7. 1\n",
       "8. 1\n",
       "9. 0\n",
       "10. 1\n",
       "11. 0\n",
       "12. 0\n",
       "13. 0\n",
       "14. 1\n",
       "15. 0\n",
       "16. 1\n",
       "17. 0\n",
       "18. 1\n",
       "19. 1\n",
       "20. 0\n",
       "21. 0\n",
       "22. 1\n",
       "23. 1\n",
       "24. 1\n",
       "25. 0\n",
       "26. 1\n",
       "27. 0\n",
       "28. 0\n",
       "29. 0\n",
       "30. 0\n",
       "31. 0\n",
       "32. 1\n",
       "33. 1\n",
       "34. 1\n",
       "35. 0\n",
       "36. 1\n",
       "37. 0\n",
       "38. 0\n",
       "39. 1\n",
       "40. 1\n",
       "41. 1\n",
       "42. 0\n",
       "43. 0\n",
       "44. 0\n",
       "45. 1\n",
       "46. 0\n",
       "47. 1\n",
       "48. 1\n",
       "49. 0\n",
       "50. 0\n",
       "51. 1\n",
       "52. 1\n",
       "53. 1\n",
       "54. 1\n",
       "55. 1\n",
       "56. 1\n",
       "57. 0\n",
       "58. 1\n",
       "59. 1\n",
       "60. 1\n",
       "61. 1\n",
       "62. 0\n",
       "63. 1\n",
       "64. 1\n",
       "65. 0\n",
       "66. 0\n",
       "67. 1\n",
       "68. 1\n",
       "69. 1\n",
       "70. 1\n",
       "71. 1\n",
       "72. 0\n",
       "73. 1\n",
       "74. 1\n",
       "75. 0\n",
       "76. 0\n",
       "77. 0\n",
       "78. 1\n",
       "79. 1\n",
       "80. 0\n",
       "81. 0\n",
       "82. 0\n",
       "83. 1\n",
       "84. 1\n",
       "85. 1\n",
       "86. 0\n",
       "87. 0\n",
       "88. 0\n",
       "89. 0\n",
       "90. 1\n",
       "91. 1\n",
       "92. 0\n",
       "93. 0\n",
       "94. 0\n",
       "95. 1\n",
       "96. 1\n",
       "97. 1\n",
       "98. 1\n",
       "99. 1\n",
       "100. 0\n",
       "101. 0\n",
       "102. 1\n",
       "103. 1\n",
       "104. 0\n",
       "105. 0\n",
       "106. 0\n",
       "107. 1\n",
       "108. 0\n",
       "109. 0\n",
       "110. 1\n",
       "111. 0\n",
       "112. 0\n",
       "113. 0\n",
       "114. 0\n",
       "115. 0\n",
       "116. 0\n",
       "117. 0\n",
       "118. 0\n",
       "119. 1\n",
       "120. 0\n",
       "121. 0\n",
       "122. 1\n",
       "123. 1\n",
       "124. 1\n",
       "125. 0\n",
       "126. 0\n",
       "127. 0\n",
       "128. 1\n",
       "129. 0\n",
       "130. 1\n",
       "131. 1\n",
       "132. 0\n",
       "133. 1\n",
       "134. 0\n",
       "135. 1\n",
       "136. 0\n",
       "137. 0\n",
       "138. 1\n",
       "139. 1\n",
       "140. 1\n",
       "141. 0\n",
       "142. 0\n",
       "143. 1\n",
       "144. 0\n",
       "145. 1\n",
       "146. 1\n",
       "147. 1\n",
       "148. 1\n",
       "149. 1\n",
       "150. 1\n",
       "151. 1\n",
       "152. 0\n",
       "153. 1\n",
       "154. 1\n",
       "155. 1\n",
       "156. 1\n",
       "157. 1\n",
       "158. 0\n",
       "159. 0\n",
       "160. 0\n",
       "161. 0\n",
       "162. 0\n",
       "163. 0\n",
       "164. 1\n",
       "165. 1\n",
       "166. 0\n",
       "167. 0\n",
       "168. 0\n",
       "169. 0\n",
       "170. 1\n",
       "171. 1\n",
       "172. 1\n",
       "173. 0\n",
       "174. 1\n",
       "175. 1\n",
       "176. 1\n",
       "177. 1\n",
       "178. 1\n",
       "179. 1\n",
       "180. 0\n",
       "181. 0\n",
       "182. 0\n",
       "183. 1\n",
       "184. 0\n",
       "185. 1\n",
       "186. 1\n",
       "187. 1\n",
       "188. 0\n",
       "189. 1\n",
       "190. 1\n",
       "191. 1\n",
       "192. 1\n",
       "193. 0\n",
       "194. 1\n",
       "195. 1\n",
       "196. 1\n",
       "197. 0\n",
       "198. 0\n",
       "199. 1\n",
       "200. 1\n",
       "201. 0\n",
       "202. 1\n",
       "203. 1\n",
       "204. 1\n",
       "205. 0\n",
       "206. 1\n",
       "207. 0\n",
       "208. 1\n",
       "209. 1\n",
       "210. 1\n",
       "211. 1\n",
       "212. 1\n",
       "213. 1\n",
       "214. 1\n",
       "215. 1\n",
       "216. 0\n",
       "217. 0\n",
       "218. 1\n",
       "219. 0\n",
       "220. 1\n",
       "221. 1\n",
       "222. 1\n",
       "223. 1\n",
       "224. 1\n",
       "225. 1\n",
       "226. 1\n",
       "227. 1\n",
       "228. 1\n",
       "229. 1\n",
       "230. 1\n",
       "231. 0\n",
       "232. 1\n",
       "233. 1\n",
       "234. 1\n",
       "235. 1\n",
       "236. 1\n",
       "237. 0\n",
       "238. 1\n",
       "239. 1\n",
       "240. 0\n",
       "241. 0\n",
       "242. 0\n",
       "243. 1\n",
       "244. 1\n",
       "245. 0\n",
       "246. 1\n",
       "247. 1\n",
       "248. 0\n",
       "249. 1\n",
       "250. 0\n",
       "251. 0\n",
       "252. 1\n",
       "253. 0\n",
       "254. 1\n",
       "255. 1\n",
       "256. 0\n",
       "257. 1\n",
       "258. 1\n",
       "259. 1\n",
       "260. 1\n",
       "261. 1\n",
       "262. 1\n",
       "263. 1\n",
       "264. 1\n",
       "265. 0\n",
       "266. 1\n",
       "267. 1\n",
       "268. 1\n",
       "269. 1\n",
       "270. 1\n",
       "271. 1\n",
       "272. 0\n",
       "273. 0\n",
       "274. 1\n",
       "275. 1\n",
       "276. 1\n",
       "277. 1\n",
       "278. 0\n",
       "279. 0\n",
       "280. 1\n",
       "281. 1\n",
       "282. 1\n",
       "283. 1\n",
       "284. 1\n",
       "285. 1\n",
       "286. 0\n",
       "287. 0\n",
       "288. 1\n",
       "289. 1\n",
       "290. 1\n",
       "291. 1\n",
       "292. 1\n",
       "293. 0\n",
       "294. 1\n",
       "295. 1\n",
       "296. 1\n",
       "297. 0\n",
       "298. 1\n",
       "299. 0\n",
       "300. 0\n",
       "301. 0\n",
       "302. 1\n",
       "303. 1\n",
       "304. 1\n",
       "305. 1\n",
       "306. 1\n",
       "307. 0\n",
       "308. 1\n",
       "309. 0\n",
       "310. 0\n",
       "311. 0\n",
       "312. 0\n",
       "313. 1\n",
       "314. 1\n",
       "315. 1\n",
       "316. 0\n",
       "317. 1\n",
       "318. 1\n",
       "319. 1\n",
       "320. 0\n",
       "321. 1\n",
       "322. 1\n",
       "323. 1\n",
       "324. 0\n",
       "325. 1\n",
       "326. 1\n",
       "327. 1\n",
       "328. 0\n",
       "329. 1\n",
       "330. 0\n",
       "331. 0\n",
       "332. 1\n",
       "333. 0\n",
       "334. 1\n",
       "335. 1\n",
       "336. 0\n",
       "337. 1\n",
       "338. 0\n",
       "339. 0\n",
       "340. 1\n",
       "\n",
       "\n"
      ],
      "text/plain": [
       "  [1] 1 0 1 0 0 1 1 1 0 1 0 0 0 1 0 1 0 1 1 0 0 1 1 1 0 1 0 0 0 0 0 1 1 1 0 1 0\n",
       " [38] 0 1 1 1 0 0 0 1 0 1 1 0 0 1 1 1 1 1 1 0 1 1 1 1 0 1 1 0 0 1 1 1 1 1 0 1 1\n",
       " [75] 0 0 0 1 1 0 0 0 1 1 1 0 0 0 0 1 1 0 0 0 1 1 1 1 1 0 0 1 1 0 0 0 1 0 0 1 0\n",
       "[112] 0 0 0 0 0 0 0 1 0 0 1 1 1 0 0 0 1 0 1 1 0 1 0 1 0 0 1 1 1 0 0 1 0 1 1 1 1\n",
       "[149] 1 1 1 0 1 1 1 1 1 0 0 0 0 0 0 1 1 0 0 0 0 1 1 1 0 1 1 1 1 1 1 0 0 0 1 0 1\n",
       "[186] 1 1 0 1 1 1 1 0 1 1 1 0 0 1 1 0 1 1 1 0 1 0 1 1 1 1 1 1 1 1 0 0 1 0 1 1 1\n",
       "[223] 1 1 1 1 1 1 1 1 0 1 1 1 1 1 0 1 1 0 0 0 1 1 0 1 1 0 1 0 0 1 0 1 1 0 1 1 1\n",
       "[260] 1 1 1 1 1 0 1 1 1 1 1 1 0 0 1 1 1 1 0 0 1 1 1 1 1 1 0 0 1 1 1 1 1 0 1 1 1\n",
       "[297] 0 1 0 0 0 1 1 1 1 1 0 1 0 0 0 0 1 1 1 0 1 1 1 0 1 1 1 0 1 1 1 0 1 0 0 1 0\n",
       "[334] 1 1 0 1 0 0 1"
      ]
     },
     "metadata": {},
     "output_type": "display_data"
    }
   ],
   "source": [
    "### This is the result from office hours\n",
    "is_diseased = sample(c(0, 1), size=340, replace=TRUE, prob=c(0.43,0.57))\n",
    "is_diseased"
   ]
  },
  {
   "cell_type": "code",
   "execution_count": 13,
   "id": "892564b8",
   "metadata": {},
   "outputs": [
    {
     "data": {
      "text/html": [
       "204"
      ],
      "text/latex": [
       "204"
      ],
      "text/markdown": [
       "204"
      ],
      "text/plain": [
       "[1] 204"
      ]
     },
     "metadata": {},
     "output_type": "display_data"
    }
   ],
   "source": [
    "sum(is_diseased)"
   ]
  },
  {
   "cell_type": "code",
   "execution_count": 14,
   "id": "8ec880ab",
   "metadata": {
    "pycharm": {
     "name": "#%%\n"
    }
   },
   "outputs": [
    {
     "name": "stdout",
     "output_type": "stream",
     "text": [
      "'data.frame':\t203 obs. of  1 variable:\n",
      " $ sampled: chr  \"Healthy\" \"Healthy\" \"Healthy\" \"Healthy\" ...\n",
      "'data.frame':\t137 obs. of  1 variable:\n",
      " $ sampled: chr  \"Diseased\" \"Diseased\" \"Diseased\" \"Diseased\" ...\n"
     ]
    }
   ],
   "source": [
    "### This is from when we worked on it in class; I had two files, decided to include both codes\n",
    "animals <- c(\"Diseased\", \"Healthy\")\n",
    "set.seed(340)\n",
    "sampled <- sample(animals, size = 340, replace = TRUE, prob = c(0.43, 0.57))\n",
    "sampled_df <- data.frame (sampled)\n",
    "healthy <- subset(sampled_df, sampled == \"Healthy\")\n",
    "diseased <- subset(sampled_df, sampled == \"Diseased\")\n",
    "str(healthy)\n",
    "str(diseased)"
   ]
  },
  {
   "cell_type": "markdown",
   "id": "2e17347b",
   "metadata": {
    "pycharm": {
     "name": "#%% md\n"
    }
   },
   "source": [
    "### Q4\n",
    "Plot the two following distributions:\n",
    "\n",
    "$$\n",
    "x \\sim \\mathcal{N}(10, 0.5) \\\\\n",
    "y \\sim \\mathcal{N}(10.2, 0.5) \\\\\n",
    "$$\n",
    "\n",
    "* Your plot should look like the following\n",
    "![](https://www.dropbox.com/s/psrjtl6abjla7z5/sample_gaussian_plot.png?dl=1)\n",
    "\n",
    "\n",
    "* Draw 40 values from the first distribution and store them in a variable called `x_sample`\n",
    "* Draw 40 values from the second distribution and store them in a variable called `y_sample`\n",
    "  * make sure you run the following line before you sample data\n",
    "  ```set.seed(42)```\n",
    " \n",
    "* Do a `t-`test to compute the `x_sample` and `y_sample`\n",
    "  * A `t-`test compares two vectors of values and predicts if the two vectors are from the same distribution\n",
    "  * The format for the t-test in R is\n",
    " \n",
    " `t.test(x,y)` where `x` an `y` are the vectors of values we would like to compare.\n",
    "  * Look at the `p-value`, if it's smaller than say 0.05, then there is a statistically significant difference between the two datasets.\n",
    "\n",
    "* Do you agree with the conclusion of the `t-test`. In other words, would you be comfortable reporting in a publication that the data in `x_sample` and `y_sample` are statistically different?"
   ]
  },
  {
   "cell_type": "code",
   "execution_count": 18,
   "id": "9cec5595",
   "metadata": {},
   "outputs": [],
   "source": [
    "x_vals = seq(8, 12, 0.01)\n",
    "probs_1 = mapply(dnorm, x_vals, mean = 10, sd = 0.5)\n",
    "probs_2 = mapply(dnorm, x_vals, mean = 10.2, sd = 0.5)"
   ]
  },
  {
   "cell_type": "code",
   "execution_count": 23,
   "id": "8dc45351",
   "metadata": {},
   "outputs": [
    {
     "data": {
      "image/png": "[encoded data removed]",
      "text/plain": [
       "plot without title"
      ]
     },
     "metadata": {
      "image/png": {
       "height": 420,
       "width": 420
      }
     },
     "output_type": "display_data"
    }
   ],
   "source": [
    "ggplot() + \n",
    "  geom_line(aes(x=x_vals, y=probs_1, color = \"red\"), size=2) +\n",
    "  geom_line(aes(x=x_vals, y=probs_2, color = \"blue\"), size=2) +\n",
    "  xlim (7, 13) +\n",
    "  theme(axis.title.x = element_text(size = 24), axis.title.y = element_text(size = 24)) + \n",
    "  theme(axis.text.x = element_text(size = 18), axis.text.y = element_text(size = 18)) + \n",
    "  scale_color_manual(labels = c(\"N(10, 0.5)\", \"N(10.2, 0.5)\"), values = c(\"blue\", \"red\"))"
   ]
  },
  {
   "cell_type": "code",
   "execution_count": 24,
   "id": "fe19bd29",
   "metadata": {},
   "outputs": [],
   "source": [
    "set.seed(42)\n",
    "x_sample <- sample(probs_1, size = 40, replace = TRUE, prob = NULL)\n",
    "y_sample <- sample(probs_1, size = 40, replace = TRUE, prob = NULL)"
   ]
  },
  {
   "cell_type": "code",
   "execution_count": 25,
   "id": "03d5eb6b",
   "metadata": {},
   "outputs": [
    {
     "data": {
      "text/plain": [
       "\n",
       "\tWelch Two Sample t-test\n",
       "\n",
       "data:  x_sample and y_sample\n",
       "t = -1.3407, df = 72.819, p-value = 0.1842\n",
       "alternative hypothesis: true difference in means is not equal to 0\n",
       "95 percent confidence interval:\n",
       " -0.18844001  0.03687786\n",
       "sample estimates:\n",
       "mean of x mean of y \n",
       "0.1709841 0.2467652 \n"
      ]
     },
     "metadata": {},
     "output_type": "display_data"
    }
   ],
   "source": [
    "t.test(x_sample,y_sample)"
   ]
  },
  {
   "cell_type": "markdown",
   "id": "1fc9338c",
   "metadata": {},
   "source": [
    "As the figure shows significant overlap between the two distribution, yes I agree with the t-test that there is no significant difference between the two distributions."
   ]
  },
  {
   "cell_type": "markdown",
   "id": "9fedba3e",
   "metadata": {
    "pycharm": {
     "name": "#%% md\n"
    }
   },
   "source": [
    "### Q5\n",
    "\n",
    "* We have used the function `dnorm` to plot the bell-shaped curve for a distribution $ x \\sim \\mathcal{N}(10, 0.5)$\n",
    "  * Use seq(8, 12, 0.1) to generate the x-axis values\n",
    "  * The pdf should look like the following\n",
    "\n",
    "![](https://www.dropbox.com/s/jl2c2atpkxze7ev/sample_pdf_sum_question.png?dl=1)\n",
    "\n",
    "* Use `dnorm` to compute the probability density for each point along the $x-$axis generated using `seq()` above\n",
    "  * What do you notice? Hint, sum the values obtained\n",
    "  \n"
   ]
  },
  {
   "cell_type": "code",
   "execution_count": 27,
   "id": "b02c84d7",
   "metadata": {},
   "outputs": [],
   "source": [
    "x_vals = seq(8, 12, 0.01)\n",
    "probs_1 = mapply(dnorm, x_vals, mean = 10, sd = 0.5)"
   ]
  },
  {
   "cell_type": "code",
   "execution_count": 31,
   "id": "c9c64577",
   "metadata": {},
   "outputs": [
    {
     "data": {
      "image/png": "[encoded data removed]",
      "text/plain": [
       "plot without title"
      ]
     },
     "metadata": {
      "image/png": {
       "height": 420,
       "width": 420
      }
     },
     "output_type": "display_data"
    }
   ],
   "source": [
    "ggplot() + \n",
    "  geom_line(aes(x=x_vals, y=probs_1), size=2) +\n",
    "  xlim (8,12) "
   ]
  },
  {
   "cell_type": "code",
   "execution_count": 32,
   "id": "bae90df3",
   "metadata": {},
   "outputs": [
    {
     "data": {
      "text/html": [
       "99.9939298435882"
      ],
      "text/latex": [
       "99.9939298435882"
      ],
      "text/markdown": [
       "99.9939298435882"
      ],
      "text/plain": [
       "[1] 99.99393"
      ]
     },
     "metadata": {},
     "output_type": "display_data"
    }
   ],
   "source": [
    "sum(probs_1)"
   ]
  },
  {
   "cell_type": "markdown",
   "id": "6df58f1c",
   "metadata": {},
   "source": [
    "The sum of the distribution is (almost) equal to 100."
   ]
  },
  {
   "cell_type": "markdown",
   "id": "99b70ba3",
   "metadata": {
    "pycharm": {
     "name": "#%%\n"
    }
   },
   "source": [
    "### Q6 Optional Challenge\n",
    "\n",
    "What transformation can you carry out to tranform the value to actual probabilities, i.e., values that sum to 1.  Write code to test whether your hypothesis works."
   ]
  },
  {
   "cell_type": "code",
   "execution_count": null,
   "id": "7ec5aa60",
   "metadata": {},
   "outputs": [],
   "source": [
    "# Write the code here"
   ]
  }
 ],
 "metadata": {
  "kernelspec": {
   "display_name": "R",
   "language": "R",
   "name": "ir"
  },
  "language_info": {
   "codemirror_mode": "r",
   "file_extension": ".r",
   "mimetype": "text/x-r-source",
   "name": "R",
   "pygments_lexer": "r",
   "version": "4.2.1"
  }
 },
 "nbformat": 4,
 "nbformat_minor": 5
}
