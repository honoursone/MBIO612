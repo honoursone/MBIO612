{
 "cells": [
  {
   "cell_type": "code",
   "execution_count": 53,
   "id": "ff2aee4a",
   "metadata": {},
   "outputs": [],
   "source": [
    "# Write you library imports here. E.g.:\n",
    "# ...\n",
    "library(tidyverse)\n",
    "library(ggplot2)"
   ]
  },
  {
   "cell_type": "markdown",
   "id": "b90fe26e",
   "metadata": {},
   "source": [
    "\n",
    "### Instructions:\n",
    "\n",
    "1. it is considered proper programming practice to load all the libraries you need in the first cell of a notebook or at the top of the R-Markdown file. Put all your imports (e.g., `library(ggplot)`) in the cell above.\n",
    "2. Create as many cells as needed to answer a question\n",
    "  * Group code that is logically related in the same cell\n",
    "  * Keep cells relatively small\n",
    "  * Format long statements or expressions, including `ggplot`, across multiple lines\n",
    "3. Submit your work to GitHub under your MBIO repository.\n",
    "  * Folder should be called `4_apply_and_data`\n",
    "    "
   ]
  },
  {
   "cell_type": "markdown",
   "id": "9d1f436c",
   "metadata": {},
   "source": [
    "### Q1\n",
    "\n",
    "* Write a function called `sd_x` that computes the standard deviation from first principles. Recall that the standard deviation is computed as\n",
    "\n",
    "$$\n",
    "\\sigma = \\sqrt{\\frac{\\sum{(x_i - \\mu)^2}}{N-1}}\n",
    "$$\n",
    "\n",
    "* $\\mu$ is simply the mean of the vector of inputs\n",
    "  * it can be computed using the `mean` function\n",
    "\n",
    "\n",
    "For example, given:\n",
    "\n",
    "```x = c(1,2,3)```\n",
    "\n",
    "Since $\\mu = 2$, then $\\sigma = \\sqrt{\\frac{(1-2)^2 + (2-2)^2 + (3-2)^2}{3}} = 1$.\n"
   ]
  },
  {
   "cell_type": "code",
   "execution_count": 79,
   "id": "a532397f",
   "metadata": {},
   "outputs": [
    {
     "data": {
      "text/html": [
       "<style>\n",
       ".list-inline {list-style: none; margin:0; padding: 0}\n",
       ".list-inline>li {display: inline-block}\n",
       ".list-inline>li:not(:last-child)::after {content: \"\\00b7\"; padding: 0 .5ex}\n",
       "</style>\n",
       "<ol class=list-inline><li>-1</li><li>0</li><li>1</li></ol>\n"
      ],
      "text/latex": [
       "\\begin{enumerate*}\n",
       "\\item -1\n",
       "\\item 0\n",
       "\\item 1\n",
       "\\end{enumerate*}\n"
      ],
      "text/markdown": [
       "1. -1\n",
       "2. 0\n",
       "3. 1\n",
       "\n",
       "\n"
      ],
      "text/plain": [
       "[1] -1  0  1"
      ]
     },
     "metadata": {},
     "output_type": "display_data"
    }
   ],
   "source": [
    "# Write your code here\n",
    "#variables\n",
    "xi <- c(1,2,3)\n",
    "mu <- mean(xi)\n",
    "xi-mu"
   ]
  },
  {
   "cell_type": "code",
   "execution_count": 181,
   "id": "61639bfe",
   "metadata": {},
   "outputs": [
    {
     "data": {
      "text/html": [
       "95.9492053119774"
      ],
      "text/latex": [
       "95.9492053119774"
      ],
      "text/markdown": [
       "95.9492053119774"
      ],
      "text/plain": [
       "[1] 95.94921"
      ]
     },
     "metadata": {},
     "output_type": "display_data"
    }
   ],
   "source": [
    "sd_x<-sqrt(sum((xi-mu)^2)/2)\n",
    "sd_x"
   ]
  },
  {
   "cell_type": "markdown",
   "id": "49cf15c5",
   "metadata": {},
   "source": [
    "### Q2\n",
    "Given the following matrix of data where each column consists of a variable: \n",
    "1. Convert this data frame into a tibble called data_tbl\n",
    "2. Use one of the apply-type of functions in conjunction with `sd_x` you wrote previously to compute the standard deviation for each column.\n"
   ]
  },
  {
   "cell_type": "code",
   "execution_count": 189,
   "id": "778eb309",
   "metadata": {},
   "outputs": [],
   "source": [
    "data = matrix(1:50, ncol=5)\n",
    "colnames(data) = c(\"variable_1\", \"variable_2\", \"variable_3\", \"variable_4\", \"variable_5\")\n",
    "df <-data"
   ]
  },
  {
   "cell_type": "code",
   "execution_count": 190,
   "id": "d8de32a8",
   "metadata": {},
   "outputs": [],
   "source": [
    "# Write your code here\n",
    "data_tbl<-as_tibble(df)"
   ]
  },
  {
   "cell_type": "code",
   "execution_count": 191,
   "id": "0e309288",
   "metadata": {},
   "outputs": [],
   "source": [
    "mu <- apply(data_tbl, 2, mean)"
   ]
  },
  {
   "cell_type": "code",
   "execution_count": 192,
   "id": "baaf3383",
   "metadata": {},
   "outputs": [],
   "source": [
    "sd_x<-sqrt(sum((data_tbl-mu)^2)/2)"
   ]
  },
  {
   "cell_type": "code",
   "execution_count": 193,
   "id": "350b24e6",
   "metadata": {},
   "outputs": [
    {
     "ename": "ERROR",
     "evalue": "Error in get(as.character(FUN), mode = \"function\", envir = envir): object 'sd_x' of mode 'function' was not found\n",
     "output_type": "error",
     "traceback": [
      "Error in get(as.character(FUN), mode = \"function\", envir = envir): object 'sd_x' of mode 'function' was not found\nTraceback:\n",
      "1. apply(data_tbl, 2, sd_x)",
      "2. match.fun(FUN)",
      "3. get(as.character(FUN), mode = \"function\", envir = envir)"
     ]
    }
   ],
   "source": [
    "apply(data_tbl, 2, sd_x)"
   ]
  },
  {
   "cell_type": "markdown",
   "id": "dec09c62",
   "metadata": {},
   "source": [
    "### Q3\n",
    "\n",
    "* In this question, we will build a simulated dataset for healthy and diseased corals.  You will be creating a `tibble` called `coral_health_tbl` that contains 2 columns:\n",
    "\n",
    "1. A column called `coral`. Generate this column by sampling 100 coral species from the following values\n",
    "```\n",
    "coral_pop = c(\"Montipora capitata\",\n",
    "  \"Porites compressa\",\n",
    "  \"Porites lobata\")\n",
    "```\n",
    " * You can use the function `sample` to select 100 values from the vector `coral_pop`\n",
    "   * You can see how the function sample works [here](https://www.rdocumentation.org/packages/base/versions/3.6.2/topics/sample)\n",
    " \n",
    "2. The second column is called `is_diseased`.\n",
    "    * it represents 100 randomly selected `TRUE` or `FALSE` values that represent whether the coral is healthy or diseased.\n",
    "    * Healthy corals (`is_diseased == FALSE`; not diseased) occur with a probability of 0.8, i.e. (`is_diseased == TRUE`) occurs with a probability of 0.2\n"
   ]
  },
  {
   "cell_type": "code",
   "execution_count": 77,
   "id": "7bf3ae1b",
   "metadata": {
    "scrolled": true
   },
   "outputs": [],
   "source": [
    "# Write your code here\n",
    "#dataframe variables\n",
    "coral_pop <- c (\"Montipora capitata\",\"Porites compressa\",\"Porites lobata\")\n",
    "diseased <- c(\"TRUE\",\"FALSE\")\n",
    "coral <- sample(coral_pop, 100, replace = TRUE, prob = NULL)\n",
    "is_diseased <- sample (diseased, 100, replace = TRUE, prob = c(0.8,0.2))"
   ]
  },
  {
   "cell_type": "code",
   "execution_count": 64,
   "id": "09fc337f",
   "metadata": {},
   "outputs": [
    {
     "name": "stdout",
     "output_type": "stream",
     "text": [
      "'data.frame':\t100 obs. of  2 variables:\n",
      " $ coral      : chr  \"Porites lobata\" \"Porites compressa\" \"Porites compressa\" \"Porites lobata\" ...\n",
      " $ is_diseased: chr  \"FALSE\" \"TRUE\" \"TRUE\" \"TRUE\" ...\n"
     ]
    }
   ],
   "source": [
    "#make dataframe\n",
    "coral_health_df <- data.frame (coral, is_diseased)\n",
    "str(coral_health_df)"
   ]
  },
  {
   "cell_type": "code",
   "execution_count": 65,
   "id": "a837b00e",
   "metadata": {},
   "outputs": [
    {
     "name": "stdout",
     "output_type": "stream",
     "text": [
      "tibble [100 × 2] (S3: tbl_df/tbl/data.frame)\n",
      " $ coral      : chr [1:100] \"Porites lobata\" \"Porites compressa\" \"Porites compressa\" \"Porites lobata\" ...\n",
      " $ is_diseased: chr [1:100] \"FALSE\" \"TRUE\" \"TRUE\" \"TRUE\" ...\n"
     ]
    }
   ],
   "source": [
    "#make tibble\n",
    "coral_health_tbl <- as_tibble(coral_health_df)\n",
    "str(coral_health_tbl)"
   ]
  },
  {
   "cell_type": "markdown",
   "id": "dacc2558",
   "metadata": {},
   "source": [
    "### Q4\n",
    "\n",
    "* The function `rnorm` is used to sample (i.e., produce) random values from a normal distribution. The syntax of the function is as follows:\n",
    "```\n",
    "rnorm(n, mu, sd)\n",
    "```\n",
    "where n is the number of samples to generate, mu is the mean of the distribution and `sd` is the standard deviation.\n",
    "\n",
    "Essentially what the function does is generate `n` random values from a normal distribution that is centered around the mean `mu` and has the standard deviation defined by the parameter `sd`. If you do not understand what this statement means, you should not worry as we will cover it in greater detail in the next section. However, you must know that this function generates n random values that are in some way close to the provided mean (`mu`) you provided.\n",
    "\n",
    "Use the cell below to experiment with the function `rnorm`. E.g.: try to generate 5 values from the distribution with a mean 10 and a standard deviation 1."
   ]
  },
  {
   "cell_type": "code",
   "execution_count": 66,
   "id": "9aa5b82e",
   "metadata": {},
   "outputs": [
    {
     "data": {
      "text/html": [
       "<style>\n",
       ".list-inline {list-style: none; margin:0; padding: 0}\n",
       ".list-inline>li {display: inline-block}\n",
       ".list-inline>li:not(:last-child)::after {content: \"\\00b7\"; padding: 0 .5ex}\n",
       "</style>\n",
       "<ol class=list-inline><li>12.0378049929424</li><li>9.67251820748816</li><li>12.0010913980159</li><li>10.4408775544371</li><li>9.86975695775547</li></ol>\n"
      ],
      "text/latex": [
       "\\begin{enumerate*}\n",
       "\\item 12.0378049929424\n",
       "\\item 9.67251820748816\n",
       "\\item 12.0010913980159\n",
       "\\item 10.4408775544371\n",
       "\\item 9.86975695775547\n",
       "\\end{enumerate*}\n"
      ],
      "text/markdown": [
       "1. 12.0378049929424\n",
       "2. 9.67251820748816\n",
       "3. 12.0010913980159\n",
       "4. 10.4408775544371\n",
       "5. 9.86975695775547\n",
       "\n",
       "\n"
      ],
      "text/plain": [
       "[1] 12.037805  9.672518 12.001091 10.440878  9.869757"
      ]
     },
     "metadata": {},
     "output_type": "display_data"
    }
   ],
   "source": [
    "rnorm (5, 10, 1)"
   ]
  },
  {
   "cell_type": "code",
   "execution_count": 67,
   "id": "eb430d00",
   "metadata": {},
   "outputs": [
    {
     "data": {
      "text/html": [
       "<style>\n",
       ".list-inline {list-style: none; margin:0; padding: 0}\n",
       ".list-inline>li {display: inline-block}\n",
       ".list-inline>li:not(:last-child)::after {content: \"\\00b7\"; padding: 0 .5ex}\n",
       "</style>\n",
       "<ol class=list-inline><li>11.0803659580077</li><li>10.581393238222</li><li>9.02829884206524</li><li>10.8909832815536</li><li>10.5957361784929</li></ol>\n"
      ],
      "text/latex": [
       "\\begin{enumerate*}\n",
       "\\item 11.0803659580077\n",
       "\\item 10.581393238222\n",
       "\\item 9.02829884206524\n",
       "\\item 10.8909832815536\n",
       "\\item 10.5957361784929\n",
       "\\end{enumerate*}\n"
      ],
      "text/markdown": [
       "1. 11.0803659580077\n",
       "2. 10.581393238222\n",
       "3. 9.02829884206524\n",
       "4. 10.8909832815536\n",
       "5. 10.5957361784929\n",
       "\n",
       "\n"
      ],
      "text/plain": [
       "[1] 11.080366 10.581393  9.028299 10.890983 10.595736"
      ]
     },
     "metadata": {},
     "output_type": "display_data"
    }
   ],
   "source": [
    "rnorm (5, 10, 1)"
   ]
  },
  {
   "cell_type": "code",
   "execution_count": 68,
   "id": "cc5bf5b5",
   "metadata": {},
   "outputs": [
    {
     "data": {
      "text/html": [
       "<style>\n",
       ".list-inline {list-style: none; margin:0; padding: 0}\n",
       ".list-inline>li {display: inline-block}\n",
       ".list-inline>li:not(:last-child)::after {content: \"\\00b7\"; padding: 0 .5ex}\n",
       "</style>\n",
       "<ol class=list-inline><li>9.1591445192137</li><li>11.3843593434786</li><li>8.74450813737233</li><li>10.0701427664273</li><li>11.7114408727024</li></ol>\n"
      ],
      "text/latex": [
       "\\begin{enumerate*}\n",
       "\\item 9.1591445192137\n",
       "\\item 11.3843593434786\n",
       "\\item 8.74450813737233\n",
       "\\item 10.0701427664273\n",
       "\\item 11.7114408727024\n",
       "\\end{enumerate*}\n"
      ],
      "text/markdown": [
       "1. 9.1591445192137\n",
       "2. 11.3843593434786\n",
       "3. 8.74450813737233\n",
       "4. 10.0701427664273\n",
       "5. 11.7114408727024\n",
       "\n",
       "\n"
      ],
      "text/plain": [
       "[1]  9.159145 11.384359  8.744508 10.070143 11.711441"
      ]
     },
     "metadata": {},
     "output_type": "display_data"
    }
   ],
   "source": [
    "set.seed(5)\n",
    "rnorm (5, 10, 1)"
   ]
  },
  {
   "cell_type": "code",
   "execution_count": 69,
   "id": "17083821",
   "metadata": {},
   "outputs": [
    {
     "data": {
      "text/html": [
       "<style>\n",
       ".list-inline {list-style: none; margin:0; padding: 0}\n",
       ".list-inline>li {display: inline-block}\n",
       ".list-inline>li:not(:last-child)::after {content: \"\\00b7\"; padding: 0 .5ex}\n",
       "</style>\n",
       "<ol class=list-inline><li>9.1591445192137</li><li>11.3843593434786</li><li>8.74450813737233</li><li>10.0701427664273</li><li>11.7114408727024</li></ol>\n"
      ],
      "text/latex": [
       "\\begin{enumerate*}\n",
       "\\item 9.1591445192137\n",
       "\\item 11.3843593434786\n",
       "\\item 8.74450813737233\n",
       "\\item 10.0701427664273\n",
       "\\item 11.7114408727024\n",
       "\\end{enumerate*}\n"
      ],
      "text/markdown": [
       "1. 9.1591445192137\n",
       "2. 11.3843593434786\n",
       "3. 8.74450813737233\n",
       "4. 10.0701427664273\n",
       "5. 11.7114408727024\n",
       "\n",
       "\n"
      ],
      "text/plain": [
       "[1]  9.159145 11.384359  8.744508 10.070143 11.711441"
      ]
     },
     "metadata": {},
     "output_type": "display_data"
    }
   ],
   "source": [
    "set.seed(5)\n",
    "rnorm (5, 10, 1)"
   ]
  },
  {
   "cell_type": "markdown",
   "id": "0b6d0045",
   "metadata": {},
   "source": [
    "### Q5\n",
    "* Create a new column in `coral_health_tbl` called `coral_cover`. This column represents coral cover values for the corals observed in your tibble\n",
    "* For the healthy coral (`is_diseased == FALSE`), sample the cover values from a normal with a mean of 9 and standard deviation of 2\n",
    "* For the diseased corals (`health_status = TRUE`), sample the cover values from a normal with mean 1 and std of 3\n",
    "* Note that this is a perfect scenario for using `mapply`\n"
   ]
  },
  {
   "cell_type": "code",
   "execution_count": 119,
   "id": "de8efd8c",
   "metadata": {},
   "outputs": [
    {
     "data": {
      "text/html": [
       "<table class=\"dataframe\">\n",
       "<caption>A tibble: 6 × 3</caption>\n",
       "<thead>\n",
       "\t<tr><th scope=col>coral</th><th scope=col>is_diseased</th><th scope=col>coral_cover</th></tr>\n",
       "\t<tr><th scope=col>&lt;chr&gt;</th><th scope=col>&lt;chr&gt;</th><th scope=col>&lt;dbl&gt;</th></tr>\n",
       "</thead>\n",
       "<tbody>\n",
       "\t<tr><td>Porites lobata    </td><td>FALSE</td><td>10.1818</td></tr>\n",
       "\t<tr><td>Porites compressa </td><td>TRUE </td><td>10.1818</td></tr>\n",
       "\t<tr><td>Porites compressa </td><td>TRUE </td><td>10.1818</td></tr>\n",
       "\t<tr><td>Porites lobata    </td><td>TRUE </td><td>10.1818</td></tr>\n",
       "\t<tr><td>Porites lobata    </td><td>TRUE </td><td>10.1818</td></tr>\n",
       "\t<tr><td>Montipora capitata</td><td>TRUE </td><td>10.1818</td></tr>\n",
       "</tbody>\n",
       "</table>\n"
      ],
      "text/latex": [
       "A tibble: 6 × 3\n",
       "\\begin{tabular}{lll}\n",
       " coral & is\\_diseased & coral\\_cover\\\\\n",
       " <chr> & <chr> & <dbl>\\\\\n",
       "\\hline\n",
       "\t Porites lobata     & FALSE & 10.1818\\\\\n",
       "\t Porites compressa  & TRUE  & 10.1818\\\\\n",
       "\t Porites compressa  & TRUE  & 10.1818\\\\\n",
       "\t Porites lobata     & TRUE  & 10.1818\\\\\n",
       "\t Porites lobata     & TRUE  & 10.1818\\\\\n",
       "\t Montipora capitata & TRUE  & 10.1818\\\\\n",
       "\\end{tabular}\n"
      ],
      "text/markdown": [
       "\n",
       "A tibble: 6 × 3\n",
       "\n",
       "| coral &lt;chr&gt; | is_diseased &lt;chr&gt; | coral_cover &lt;dbl&gt; |\n",
       "|---|---|---|\n",
       "| Porites lobata     | FALSE | 10.1818 |\n",
       "| Porites compressa  | TRUE  | 10.1818 |\n",
       "| Porites compressa  | TRUE  | 10.1818 |\n",
       "| Porites lobata     | TRUE  | 10.1818 |\n",
       "| Porites lobata     | TRUE  | 10.1818 |\n",
       "| Montipora capitata | TRUE  | 10.1818 |\n",
       "\n"
      ],
      "text/plain": [
       "  coral              is_diseased coral_cover\n",
       "1 Porites lobata     FALSE       10.1818    \n",
       "2 Porites compressa  TRUE        10.1818    \n",
       "3 Porites compressa  TRUE        10.1818    \n",
       "4 Porites lobata     TRUE        10.1818    \n",
       "5 Porites lobata     TRUE        10.1818    \n",
       "6 Montipora capitata TRUE        10.1818    "
      ]
     },
     "metadata": {},
     "output_type": "display_data"
    }
   ],
   "source": [
    "# Write your code here\n",
    "head(coral_health_tbl)"
   ]
  },
  {
   "cell_type": "code",
   "execution_count": 123,
   "id": "fd1f8a9e",
   "metadata": {},
   "outputs": [
    {
     "data": {
      "text/html": [
       "<style>\n",
       ".list-inline {list-style: none; margin:0; padding: 0}\n",
       ".list-inline>li {display: inline-block}\n",
       ".list-inline>li:not(:last-child)::after {content: \"\\00b7\"; padding: 0 .5ex}\n",
       "</style>\n",
       "<ol class=list-inline><li>83</li><li>3</li></ol>\n"
      ],
      "text/latex": [
       "\\begin{enumerate*}\n",
       "\\item 83\n",
       "\\item 3\n",
       "\\end{enumerate*}\n"
      ],
      "text/markdown": [
       "1. 83\n",
       "2. 3\n",
       "\n",
       "\n"
      ],
      "text/plain": [
       "[1] 83  3"
      ]
     },
     "metadata": {},
     "output_type": "display_data"
    }
   ],
   "source": [
    "diseased_lines <- coral_health_tbl[\"is_diseased\"]==TRUE\n",
    "dim(subset(coral_health_tbl, diseased_lines))"
   ]
  },
  {
   "cell_type": "code",
   "execution_count": 124,
   "id": "14c94756",
   "metadata": {},
   "outputs": [
    {
     "data": {
      "text/html": [
       "<style>\n",
       ".list-inline {list-style: none; margin:0; padding: 0}\n",
       ".list-inline>li {display: inline-block}\n",
       ".list-inline>li:not(:last-child)::after {content: \"\\00b7\"; padding: 0 .5ex}\n",
       "</style>\n",
       "<ol class=list-inline><li>17</li><li>3</li></ol>\n"
      ],
      "text/latex": [
       "\\begin{enumerate*}\n",
       "\\item 17\n",
       "\\item 3\n",
       "\\end{enumerate*}\n"
      ],
      "text/markdown": [
       "1. 17\n",
       "2. 3\n",
       "\n",
       "\n"
      ],
      "text/plain": [
       "[1] 17  3"
      ]
     },
     "metadata": {},
     "output_type": "display_data"
    }
   ],
   "source": [
    "not_diseased_lines <- coral_health_tbl[\"is_diseased\"]==FALSE\n",
    "dim(subset(coral_health_tbl, not_diseased_lines))"
   ]
  },
  {
   "cell_type": "code",
   "execution_count": 138,
   "id": "93c7d839",
   "metadata": {},
   "outputs": [],
   "source": [
    "values_not_diseased <- rnorm(17, 9, 2)\n",
    "values_diseased <- rnorm(83, 1, 3)\n",
    "coral_health_tbl$coral_cover[coral_health_tbl$is_diseased == FALSE] <- values_not_diseased\n",
    "coral_health_tbl$coral_cover[coral_health_tbl$is_diseased == TRUE] <- values_diseased"
   ]
  },
  {
   "cell_type": "code",
   "execution_count": 141,
   "id": "10903bf9",
   "metadata": {},
   "outputs": [
    {
     "data": {
      "text/html": [
       "<table class=\"dataframe\">\n",
       "<caption>A tibble: 6 × 3</caption>\n",
       "<thead>\n",
       "\t<tr><th scope=col>coral</th><th scope=col>is_diseased</th><th scope=col>coral_cover</th></tr>\n",
       "\t<tr><th scope=col>&lt;chr&gt;</th><th scope=col>&lt;chr&gt;</th><th scope=col>&lt;dbl&gt;</th></tr>\n",
       "</thead>\n",
       "<tbody>\n",
       "\t<tr><td>Porites lobata    </td><td>FALSE</td><td>11.4010875</td></tr>\n",
       "\t<tr><td>Porites compressa </td><td>TRUE </td><td>-1.3216941</td></tr>\n",
       "\t<tr><td>Porites compressa </td><td>TRUE </td><td>-0.8787802</td></tr>\n",
       "\t<tr><td>Porites lobata    </td><td>TRUE </td><td> 6.2230435</td></tr>\n",
       "\t<tr><td>Porites lobata    </td><td>TRUE </td><td> 0.8458073</td></tr>\n",
       "\t<tr><td>Montipora capitata</td><td>TRUE </td><td> 3.8952583</td></tr>\n",
       "</tbody>\n",
       "</table>\n"
      ],
      "text/latex": [
       "A tibble: 6 × 3\n",
       "\\begin{tabular}{lll}\n",
       " coral & is\\_diseased & coral\\_cover\\\\\n",
       " <chr> & <chr> & <dbl>\\\\\n",
       "\\hline\n",
       "\t Porites lobata     & FALSE & 11.4010875\\\\\n",
       "\t Porites compressa  & TRUE  & -1.3216941\\\\\n",
       "\t Porites compressa  & TRUE  & -0.8787802\\\\\n",
       "\t Porites lobata     & TRUE  &  6.2230435\\\\\n",
       "\t Porites lobata     & TRUE  &  0.8458073\\\\\n",
       "\t Montipora capitata & TRUE  &  3.8952583\\\\\n",
       "\\end{tabular}\n"
      ],
      "text/markdown": [
       "\n",
       "A tibble: 6 × 3\n",
       "\n",
       "| coral &lt;chr&gt; | is_diseased &lt;chr&gt; | coral_cover &lt;dbl&gt; |\n",
       "|---|---|---|\n",
       "| Porites lobata     | FALSE | 11.4010875 |\n",
       "| Porites compressa  | TRUE  | -1.3216941 |\n",
       "| Porites compressa  | TRUE  | -0.8787802 |\n",
       "| Porites lobata     | TRUE  |  6.2230435 |\n",
       "| Porites lobata     | TRUE  |  0.8458073 |\n",
       "| Montipora capitata | TRUE  |  3.8952583 |\n",
       "\n"
      ],
      "text/plain": [
       "  coral              is_diseased coral_cover\n",
       "1 Porites lobata     FALSE       11.4010875 \n",
       "2 Porites compressa  TRUE        -1.3216941 \n",
       "3 Porites compressa  TRUE        -0.8787802 \n",
       "4 Porites lobata     TRUE         6.2230435 \n",
       "5 Porites lobata     TRUE         0.8458073 \n",
       "6 Montipora capitata TRUE         3.8952583 "
      ]
     },
     "metadata": {},
     "output_type": "display_data"
    }
   ],
   "source": [
    "head(coral_health_tbl)"
   ]
  },
  {
   "cell_type": "markdown",
   "id": "7e7af1ce",
   "metadata": {},
   "source": [
    "### Q6\n",
    "\n",
    "* Add another column called `binary_health_status`.\n",
    " * set the column to 0 if `is_diseased == FALSE`\n",
    " * set the column to 1 if `is_diseased == TRUE`\n",
    "\n",
    "* A trick here is to remember that:\n",
    "  1. Corecing (converting) a logical can be done with `as.integer()`\n",
    "  2. `as.integer(TRUE)` returns 1\n",
    "  3. `as.integer(FALSE)` returns 0\n",
    "\n",
    "\n"
   ]
  },
  {
   "cell_type": "code",
   "execution_count": 145,
   "id": "71ed115a",
   "metadata": {},
   "outputs": [],
   "source": [
    "binary_health_status <- 1:100"
   ]
  },
  {
   "cell_type": "code",
   "execution_count": 146,
   "id": "92b033c1",
   "metadata": {},
   "outputs": [],
   "source": [
    "coral_health_tbl[\"binary_health_status\"] <- binary_health_status"
   ]
  },
  {
   "cell_type": "code",
   "execution_count": 147,
   "id": "7aa523f6",
   "metadata": {},
   "outputs": [],
   "source": [
    "coral_health_tbl$binary_health_status[coral_health_tbl$is_diseased == FALSE] <- 0\n",
    "coral_health_tbl$binary_health_status[coral_health_tbl$is_diseased == TRUE] <- 1"
   ]
  },
  {
   "cell_type": "code",
   "execution_count": 148,
   "id": "2fa25c40",
   "metadata": {},
   "outputs": [
    {
     "data": {
      "text/html": [
       "<table class=\"dataframe\">\n",
       "<caption>A tibble: 6 × 4</caption>\n",
       "<thead>\n",
       "\t<tr><th scope=col>coral</th><th scope=col>is_diseased</th><th scope=col>coral_cover</th><th scope=col>binary_health_status</th></tr>\n",
       "\t<tr><th scope=col>&lt;chr&gt;</th><th scope=col>&lt;chr&gt;</th><th scope=col>&lt;dbl&gt;</th><th scope=col>&lt;dbl&gt;</th></tr>\n",
       "</thead>\n",
       "<tbody>\n",
       "\t<tr><td>Porites lobata    </td><td>FALSE</td><td>11.4010875</td><td>0</td></tr>\n",
       "\t<tr><td>Porites compressa </td><td>TRUE </td><td>-1.3216941</td><td>1</td></tr>\n",
       "\t<tr><td>Porites compressa </td><td>TRUE </td><td>-0.8787802</td><td>1</td></tr>\n",
       "\t<tr><td>Porites lobata    </td><td>TRUE </td><td> 6.2230435</td><td>1</td></tr>\n",
       "\t<tr><td>Porites lobata    </td><td>TRUE </td><td> 0.8458073</td><td>1</td></tr>\n",
       "\t<tr><td>Montipora capitata</td><td>TRUE </td><td> 3.8952583</td><td>1</td></tr>\n",
       "</tbody>\n",
       "</table>\n"
      ],
      "text/latex": [
       "A tibble: 6 × 4\n",
       "\\begin{tabular}{llll}\n",
       " coral & is\\_diseased & coral\\_cover & binary\\_health\\_status\\\\\n",
       " <chr> & <chr> & <dbl> & <dbl>\\\\\n",
       "\\hline\n",
       "\t Porites lobata     & FALSE & 11.4010875 & 0\\\\\n",
       "\t Porites compressa  & TRUE  & -1.3216941 & 1\\\\\n",
       "\t Porites compressa  & TRUE  & -0.8787802 & 1\\\\\n",
       "\t Porites lobata     & TRUE  &  6.2230435 & 1\\\\\n",
       "\t Porites lobata     & TRUE  &  0.8458073 & 1\\\\\n",
       "\t Montipora capitata & TRUE  &  3.8952583 & 1\\\\\n",
       "\\end{tabular}\n"
      ],
      "text/markdown": [
       "\n",
       "A tibble: 6 × 4\n",
       "\n",
       "| coral &lt;chr&gt; | is_diseased &lt;chr&gt; | coral_cover &lt;dbl&gt; | binary_health_status &lt;dbl&gt; |\n",
       "|---|---|---|---|\n",
       "| Porites lobata     | FALSE | 11.4010875 | 0 |\n",
       "| Porites compressa  | TRUE  | -1.3216941 | 1 |\n",
       "| Porites compressa  | TRUE  | -0.8787802 | 1 |\n",
       "| Porites lobata     | TRUE  |  6.2230435 | 1 |\n",
       "| Porites lobata     | TRUE  |  0.8458073 | 1 |\n",
       "| Montipora capitata | TRUE  |  3.8952583 | 1 |\n",
       "\n"
      ],
      "text/plain": [
       "  coral              is_diseased coral_cover binary_health_status\n",
       "1 Porites lobata     FALSE       11.4010875  0                   \n",
       "2 Porites compressa  TRUE        -1.3216941  1                   \n",
       "3 Porites compressa  TRUE        -0.8787802  1                   \n",
       "4 Porites lobata     TRUE         6.2230435  1                   \n",
       "5 Porites lobata     TRUE         0.8458073  1                   \n",
       "6 Montipora capitata TRUE         3.8952583  1                   "
      ]
     },
     "metadata": {},
     "output_type": "display_data"
    }
   ],
   "source": [
    "head(coral_health_tbl)"
   ]
  },
  {
   "cell_type": "markdown",
   "id": "a6e28e80",
   "metadata": {},
   "source": [
    "### Q7\n",
    "\n",
    "* Plot the distribution of `coral_cover` for healthy versus diseased corals\n",
    "* Note that I am using the histogram `geom`\n",
    "  * Histograms need only an `x`-axis because the `y` is typically computed as the number of items occurring in a bin of some predetermined width.\n",
    "    * However, instead of a raw count, we want a normalized count. You can normalize the count by setting `y = stat(count / sum(count))`  \n",
    "  * I am coloring the bin outlines in black and filling in grey for disease and white for healthy\n",
    "  * I am using `binwidth=1'.\n",
    "* Use the `labs` function to add a title and to change the labels for the `x` and `y` axes\n",
    "* The plot should look \"somewhat\" like the following\n",
    "![](https://www.dropbox.com/s/wdbdj05rd50vb0k/healthy-diseased.png?dl=1)"
   ]
  },
  {
   "cell_type": "code",
   "execution_count": 196,
   "id": "8ab872f1",
   "metadata": {},
   "outputs": [
    {
     "ename": "ERROR",
     "evalue": "\u001b[1m\u001b[33mError\u001b[39m in \u001b[1m\u001b[1m`fortify()`:\u001b[22m\n\u001b[33m!\u001b[39m `data` must be a data frame, or other object coercible by `fortify()`, not a numeric vector.\n",
     "output_type": "error",
     "traceback": [
      "\u001b[1m\u001b[33mError\u001b[39m in \u001b[1m\u001b[1m`fortify()`:\u001b[22m\n\u001b[33m!\u001b[39m `data` must be a data frame, or other object coercible by `fortify()`, not a numeric vector.\nTraceback:\n",
      "1. ggplot(coral_health_tbl$coral_cover)",
      "2. ggplot.default(coral_health_tbl$coral_cover)",
      "3. fortify(data, ...)",
      "4. fortify.default(data, ...)",
      "5. abort(msg)",
      "6. signal_abort(cnd, .file)"
     ]
    }
   ],
   "source": [
    "ggplot (coral_health_tbl$coral_cover) +\n",
    "geom_histogram (binwidth=1)\n"
   ]
  },
  {
   "cell_type": "code",
   "execution_count": null,
   "id": "17f978dc",
   "metadata": {},
   "outputs": [],
   "source": []
  },
  {
   "cell_type": "code",
   "execution_count": null,
   "id": "a2a54918",
   "metadata": {},
   "outputs": [],
   "source": []
  },
  {
   "cell_type": "code",
   "execution_count": null,
   "id": "308f610d",
   "metadata": {},
   "outputs": [],
   "source": []
  },
  {
   "cell_type": "code",
   "execution_count": null,
   "id": "1d872ece",
   "metadata": {},
   "outputs": [],
   "source": []
  },
  {
   "cell_type": "code",
   "execution_count": null,
   "id": "c8cee801",
   "metadata": {},
   "outputs": [],
   "source": []
  },
  {
   "cell_type": "code",
   "execution_count": null,
   "id": "30581c75",
   "metadata": {},
   "outputs": [],
   "source": []
  },
  {
   "cell_type": "markdown",
   "id": "5a9538df",
   "metadata": {},
   "source": [
    "### Q8\n",
    "\n",
    "* Use `geom_density` to mirror the information conveyed in the histogram above using density curves instead of histograms.\n",
    "  * Set the `adjust` parameter of `geom_density` to `2`\n",
    "* Change the `xlim` scale so that we can see the edges of the curves\n",
    "  * I.e., curves should not be cut off\n",
    "  \n",
    "* The resulting curve will look like the following\n",
    "![](https://www.dropbox.com/s/rs4rx0w6ur8p5wq/coral_distr_practical.png?dl=1)\n"
   ]
  },
  {
   "cell_type": "markdown",
   "id": "8c811bda",
   "metadata": {},
   "source": [
    "### Q9\n",
    "\n",
    "You have been provided with the dataset illustrated in the image below, which contains counts for 20 fish species across 5 locations. For convenience, only two species and 2 locations are illustrated here. Based on your knowledge of tidy data, how can you format the data shown in this file in a way that is considered `tidy`. Provide an image of a hand-drawn table (or tables if needed) that represents the table format. Briefly justify your answer in a 3-4 sentences.\n",
    "\n",
    "\n",
    "![](https://www.dropbox.com/s/ucvj0gburg8at60/tidy_data.png?dl=1)"
   ]
  },
  {
   "cell_type": "markdown",
   "id": "784fa644",
   "metadata": {},
   "source": [
    "### Q10 -- Challenge (Optional)\n",
    "\n",
    "\n",
    "Recall problem `8` in the airquality dataset.\n",
    "  * Remember that you can import that dataset using `data(airquality)`\n",
    "1. Convert the `airquality` dataframe to a tibble called `airq_tbl`\n",
    "2. Replace the missing values for Solar.R using that month's average.\n",
    "    * Example:\n",
    "        * The missing value for line 6 in `airq_tbl`should be replaced with the average for month 5.\n",
    "        * The missing value for line 97 in `airq_tbl` should be replaced with the average for month 8.\n",
    "\n",
    "* Strategy:\n",
    "  1. Compute the average values for months 5, 6, 7, 8, and 9 in a names vector called `monthly_avg_SolarR`\n",
    "      * monthly_avg_SolarR[5] should return the average for May.\n",
    "      * monthly_avg_SolarR[6] should return the average for June.\n",
    "      * etc.\n",
    "      * This is an ideal use case for `tapply` with `na.rm=TRUE` (ask me!)\n",
    "  2. for each line of airq_tbl check value of Solar.R and do:\n",
    "    * if value is not `na`, return the value\n",
    "    * if value if `na`; return avg associated with `Month`\n",
    "    * This is an ideal case for `apply`\n",
    "      * You need to write your own function (call it `fix_missing_solar_R`)\n",
    "      * Recall that the argument to that function is a complete row as a vector!\n",
    "    * test your function with the following line to make sure it's working\n",
    "    ```fix_missing_solar_R(airq_tbl[5,])```"
   ]
  }
 ],
 "metadata": {
  "kernelspec": {
   "display_name": "R",
   "language": "R",
   "name": "ir"
  },
  "language_info": {
   "codemirror_mode": "r",
   "file_extension": ".r",
   "mimetype": "text/x-r-source",
   "name": "R",
   "pygments_lexer": "r",
   "version": "4.2.1"
  }
 },
 "nbformat": 4,
 "nbformat_minor": 5
}
