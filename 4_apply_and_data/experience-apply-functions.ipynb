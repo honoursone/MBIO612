{
 "cells": [
  {
   "cell_type": "code",
   "execution_count": 1,
   "id": "ff2aee4a",
   "metadata": {},
   "outputs": [
    {
     "name": "stderr",
     "output_type": "stream",
     "text": [
      "── \u001b[1mAttaching packages\u001b[22m ─────────────────────────────────────── tidyverse 1.3.2 ──\n",
      "\u001b[32m✔\u001b[39m \u001b[34mggplot2\u001b[39m 3.3.6      \u001b[32m✔\u001b[39m \u001b[34mpurrr  \u001b[39m 0.3.4 \n",
      "\u001b[32m✔\u001b[39m \u001b[34mtibble \u001b[39m 3.1.8      \u001b[32m✔\u001b[39m \u001b[34mdplyr  \u001b[39m 1.0.10\n",
      "\u001b[32m✔\u001b[39m \u001b[34mtidyr  \u001b[39m 1.2.1      \u001b[32m✔\u001b[39m \u001b[34mstringr\u001b[39m 1.4.1 \n",
      "\u001b[32m✔\u001b[39m \u001b[34mreadr  \u001b[39m 2.1.2      \u001b[32m✔\u001b[39m \u001b[34mforcats\u001b[39m 0.5.2 \n",
      "── \u001b[1mConflicts\u001b[22m ────────────────────────────────────────── tidyverse_conflicts() ──\n",
      "\u001b[31m✖\u001b[39m \u001b[34mdplyr\u001b[39m::\u001b[32mfilter()\u001b[39m masks \u001b[34mstats\u001b[39m::filter()\n",
      "\u001b[31m✖\u001b[39m \u001b[34mdplyr\u001b[39m::\u001b[32mlag()\u001b[39m    masks \u001b[34mstats\u001b[39m::lag()\n"
     ]
    }
   ],
   "source": [
    "# Write you library imports here. E.g.:\n",
    "# ...\n",
    "library(tidyverse)\n",
    "library(ggplot2)"
   ]
  },
  {
   "cell_type": "markdown",
   "id": "b90fe26e",
   "metadata": {},
   "source": [
    "\n",
    "### Instructions:\n",
    "\n",
    "1. it is considered proper programming practice to load all the libraries you need in the first cell of a notebook or at the top of the R-Markdown file. Put all your imports (e.g., `library(ggplot)`) in the cell above.\n",
    "2. Create as many cells as needed to answer a question\n",
    "  * Group code that is logically related in the same cell\n",
    "  * Keep cells relatively small\n",
    "  * Format long statements or expressions, including `ggplot`, across multiple lines\n",
    "3. Submit your work to GitHub under your MBIO repository.\n",
    "  * Folder should be called `4_apply_and_data`\n",
    "    "
   ]
  },
  {
   "cell_type": "markdown",
   "id": "9d1f436c",
   "metadata": {},
   "source": [
    "### Q1\n",
    "\n",
    "* Write a function called `sd_x` that computes the standard deviation from first principles. Recall that the standard deviation is computed as\n",
    "\n",
    "$$\n",
    "\\sigma = \\sqrt{\\frac{\\sum{(x_i - \\mu)^2}}{N-1}}\n",
    "$$\n",
    "\n",
    "* $\\mu$ is simply the mean of the vector of inputs\n",
    "  * it can be computed using the `mean` function\n",
    "\n",
    "\n",
    "For example, given:\n",
    "\n",
    "```x = c(1,2,3)```\n",
    "\n",
    "Since $\\mu = 2$, then $\\sigma = \\sqrt{\\frac{(1-2)^2 + (2-2)^2 + (3-2)^2}{3}} = 1$.\n"
   ]
  },
  {
   "cell_type": "code",
   "execution_count": 2,
   "id": "a532397f",
   "metadata": {},
   "outputs": [
    {
     "data": {
      "text/html": [
       "<style>\n",
       ".list-inline {list-style: none; margin:0; padding: 0}\n",
       ".list-inline>li {display: inline-block}\n",
       ".list-inline>li:not(:last-child)::after {content: \"\\00b7\"; padding: 0 .5ex}\n",
       "</style>\n",
       "<ol class=list-inline><li>-1</li><li>0</li><li>1</li></ol>\n"
      ],
      "text/latex": [
       "\\begin{enumerate*}\n",
       "\\item -1\n",
       "\\item 0\n",
       "\\item 1\n",
       "\\end{enumerate*}\n"
      ],
      "text/markdown": [
       "1. -1\n",
       "2. 0\n",
       "3. 1\n",
       "\n",
       "\n"
      ],
      "text/plain": [
       "[1] -1  0  1"
      ]
     },
     "metadata": {},
     "output_type": "display_data"
    }
   ],
   "source": [
    "# Write your code here\n",
    "#variables\n",
    "xi <- c(1,2,3)\n",
    "mu <- mean(xi)\n",
    "xi-mu"
   ]
  },
  {
   "cell_type": "code",
   "execution_count": 3,
   "id": "61639bfe",
   "metadata": {},
   "outputs": [
    {
     "data": {
      "text/html": [
       "1"
      ],
      "text/latex": [
       "1"
      ],
      "text/markdown": [
       "1"
      ],
      "text/plain": [
       "[1] 1"
      ]
     },
     "metadata": {},
     "output_type": "display_data"
    }
   ],
   "source": [
    "sd_x<-sqrt(sum((xi-mu)^2)/2)\n",
    "sd_x"
   ]
  },
  {
   "cell_type": "markdown",
   "id": "49cf15c5",
   "metadata": {},
   "source": [
    "### Q2\n",
    "Given the following matrix of data where each column consists of a variable: \n",
    "1. Convert this data frame into a tibble called data_tbl\n",
    "2. Use one of the apply-type of functions in conjunction with `sd_x` you wrote previously to compute the standard deviation for each column.\n"
   ]
  },
  {
   "cell_type": "code",
   "execution_count": 4,
   "id": "778eb309",
   "metadata": {},
   "outputs": [],
   "source": [
    "data = matrix(1:50, ncol=5)\n",
    "colnames(data) = c(\"variable_1\", \"variable_2\", \"variable_3\", \"variable_4\", \"variable_5\")\n",
    "df <-data"
   ]
  },
  {
   "cell_type": "code",
   "execution_count": 5,
   "id": "d8de32a8",
   "metadata": {},
   "outputs": [],
   "source": [
    "# Write your code here\n",
    "data_tbl<-as_tibble(df)"
   ]
  },
  {
   "cell_type": "code",
   "execution_count": 6,
   "id": "0e309288",
   "metadata": {},
   "outputs": [],
   "source": [
    "mu <- apply(data_tbl, 2, mean)"
   ]
  },
  {
   "cell_type": "code",
   "execution_count": 7,
   "id": "baaf3383",
   "metadata": {},
   "outputs": [],
   "source": [
    "sd_x<-sqrt(sum((data_tbl-mu)^2)/2)"
   ]
  },
  {
   "cell_type": "code",
   "execution_count": 8,
   "id": "350b24e6",
   "metadata": {},
   "outputs": [
    {
     "ename": "ERROR",
     "evalue": "Error in get(as.character(FUN), mode = \"function\", envir = envir): object 'sd_x' of mode 'function' was not found\n",
     "output_type": "error",
     "traceback": [
      "Error in get(as.character(FUN), mode = \"function\", envir = envir): object 'sd_x' of mode 'function' was not found\nTraceback:\n",
      "1. apply(data_tbl, 2, sd_x)",
      "2. match.fun(FUN)",
      "3. get(as.character(FUN), mode = \"function\", envir = envir)"
     ]
    }
   ],
   "source": [
    "apply(data_tbl, 2, sd_x)"
   ]
  },
  {
   "cell_type": "markdown",
   "id": "dec09c62",
   "metadata": {},
   "source": [
    "### Q3\n",
    "\n",
    "* In this question, we will build a simulated dataset for healthy and diseased corals.  You will be creating a `tibble` called `coral_health_tbl` that contains 2 columns:\n",
    "\n",
    "1. A column called `coral`. Generate this column by sampling 100 coral species from the following values\n",
    "```\n",
    "coral_pop = c(\"Montipora capitata\",\n",
    "  \"Porites compressa\",\n",
    "  \"Porites lobata\")\n",
    "```\n",
    " * You can use the function `sample` to select 100 values from the vector `coral_pop`\n",
    "   * You can see how the function sample works [here](https://www.rdocumentation.org/packages/base/versions/3.6.2/topics/sample)\n",
    " \n",
    "2. The second column is called `is_diseased`.\n",
    "    * it represents 100 randomly selected `TRUE` or `FALSE` values that represent whether the coral is healthy or diseased.\n",
    "    * Healthy corals (`is_diseased == FALSE`; not diseased) occur with a probability of 0.8, i.e. (`is_diseased == TRUE`) occurs with a probability of 0.2\n"
   ]
  },
  {
   "cell_type": "code",
   "execution_count": 9,
   "id": "7bf3ae1b",
   "metadata": {
    "scrolled": true
   },
   "outputs": [],
   "source": [
    "# Write your code here\n",
    "#dataframe variables\n",
    "coral_pop <- c (\"Montipora capitata\",\"Porites compressa\",\"Porites lobata\")\n",
    "diseased <- c(\"TRUE\",\"FALSE\")\n",
    "coral <- sample(coral_pop, 100, replace = TRUE, prob = NULL)\n",
    "is_diseased <- sample (diseased, 100, replace = TRUE, prob = c(0.8,0.2))"
   ]
  },
  {
   "cell_type": "code",
   "execution_count": 10,
   "id": "09fc337f",
   "metadata": {},
   "outputs": [
    {
     "name": "stdout",
     "output_type": "stream",
     "text": [
      "'data.frame':\t100 obs. of  2 variables:\n",
      " $ coral      : chr  \"Porites lobata\" \"Porites lobata\" \"Porites compressa\" \"Porites compressa\" ...\n",
      " $ is_diseased: chr  \"FALSE\" \"TRUE\" \"TRUE\" \"TRUE\" ...\n"
     ]
    }
   ],
   "source": [
    "#make dataframe\n",
    "coral_health_df <- data.frame (coral, is_diseased)\n",
    "str(coral_health_df)"
   ]
  },
  {
   "cell_type": "code",
   "execution_count": 11,
   "id": "a837b00e",
   "metadata": {},
   "outputs": [
    {
     "name": "stdout",
     "output_type": "stream",
     "text": [
      "tibble [100 × 2] (S3: tbl_df/tbl/data.frame)\n",
      " $ coral      : chr [1:100] \"Porites lobata\" \"Porites lobata\" \"Porites compressa\" \"Porites compressa\" ...\n",
      " $ is_diseased: chr [1:100] \"FALSE\" \"TRUE\" \"TRUE\" \"TRUE\" ...\n"
     ]
    }
   ],
   "source": [
    "#make tibble\n",
    "coral_health_tbl <- as_tibble(coral_health_df)\n",
    "str(coral_health_tbl)"
   ]
  },
  {
   "cell_type": "markdown",
   "id": "dacc2558",
   "metadata": {},
   "source": [
    "### Q4\n",
    "\n",
    "* The function `rnorm` is used to sample (i.e., produce) random values from a normal distribution. The syntax of the function is as follows:\n",
    "```\n",
    "rnorm(n, mu, sd)\n",
    "```\n",
    "where n is the number of samples to generate, mu is the mean of the distribution and `sd` is the standard deviation.\n",
    "\n",
    "Essentially what the function does is generate `n` random values from a normal distribution that is centered around the mean `mu` and has the standard deviation defined by the parameter `sd`. If you do not understand what this statement means, you should not worry as we will cover it in greater detail in the next section. However, you must know that this function generates n random values that are in some way close to the provided mean (`mu`) you provided.\n",
    "\n",
    "Use the cell below to experiment with the function `rnorm`. E.g.: try to generate 5 values from the distribution with a mean 10 and a standard deviation 1."
   ]
  },
  {
   "cell_type": "code",
   "execution_count": 12,
   "id": "9aa5b82e",
   "metadata": {},
   "outputs": [
    {
     "data": {
      "text/html": [
       "<style>\n",
       ".list-inline {list-style: none; margin:0; padding: 0}\n",
       ".list-inline>li {display: inline-block}\n",
       ".list-inline>li:not(:last-child)::after {content: \"\\00b7\"; padding: 0 .5ex}\n",
       "</style>\n",
       "<ol class=list-inline><li>9.2083544809944</li><li>10.5971207884422</li><li>10.2874315644449</li><li>10.8249212658824</li><li>8.82921208354197</li></ol>\n"
      ],
      "text/latex": [
       "\\begin{enumerate*}\n",
       "\\item 9.2083544809944\n",
       "\\item 10.5971207884422\n",
       "\\item 10.2874315644449\n",
       "\\item 10.8249212658824\n",
       "\\item 8.82921208354197\n",
       "\\end{enumerate*}\n"
      ],
      "text/markdown": [
       "1. 9.2083544809944\n",
       "2. 10.5971207884422\n",
       "3. 10.2874315644449\n",
       "4. 10.8249212658824\n",
       "5. 8.82921208354197\n",
       "\n",
       "\n"
      ],
      "text/plain": [
       "[1]  9.208354 10.597121 10.287432 10.824921  8.829212"
      ]
     },
     "metadata": {},
     "output_type": "display_data"
    }
   ],
   "source": [
    "rnorm (5, 10, 1)"
   ]
  },
  {
   "cell_type": "code",
   "execution_count": 13,
   "id": "eb430d00",
   "metadata": {},
   "outputs": [
    {
     "data": {
      "text/html": [
       "<style>\n",
       ".list-inline {list-style: none; margin:0; padding: 0}\n",
       ".list-inline>li {display: inline-block}\n",
       ".list-inline>li:not(:last-child)::after {content: \"\\00b7\"; padding: 0 .5ex}\n",
       "</style>\n",
       "<ol class=list-inline><li>11.2677383477773</li><li>9.48750535205185</li><li>10.7885007038802</li><li>8.71848307139257</li><li>11.2253731854205</li></ol>\n"
      ],
      "text/latex": [
       "\\begin{enumerate*}\n",
       "\\item 11.2677383477773\n",
       "\\item 9.48750535205185\n",
       "\\item 10.7885007038802\n",
       "\\item 8.71848307139257\n",
       "\\item 11.2253731854205\n",
       "\\end{enumerate*}\n"
      ],
      "text/markdown": [
       "1. 11.2677383477773\n",
       "2. 9.48750535205185\n",
       "3. 10.7885007038802\n",
       "4. 8.71848307139257\n",
       "5. 11.2253731854205\n",
       "\n",
       "\n"
      ],
      "text/plain": [
       "[1] 11.267738  9.487505 10.788501  8.718483 11.225373"
      ]
     },
     "metadata": {},
     "output_type": "display_data"
    }
   ],
   "source": [
    "rnorm (5, 10, 1)"
   ]
  },
  {
   "cell_type": "code",
   "execution_count": 14,
   "id": "cc5bf5b5",
   "metadata": {},
   "outputs": [
    {
     "data": {
      "text/html": [
       "<style>\n",
       ".list-inline {list-style: none; margin:0; padding: 0}\n",
       ".list-inline>li {display: inline-block}\n",
       ".list-inline>li:not(:last-child)::after {content: \"\\00b7\"; padding: 0 .5ex}\n",
       "</style>\n",
       "<ol class=list-inline><li>9.1591445192137</li><li>11.3843593434786</li><li>8.74450813737233</li><li>10.0701427664273</li><li>11.7114408727024</li></ol>\n"
      ],
      "text/latex": [
       "\\begin{enumerate*}\n",
       "\\item 9.1591445192137\n",
       "\\item 11.3843593434786\n",
       "\\item 8.74450813737233\n",
       "\\item 10.0701427664273\n",
       "\\item 11.7114408727024\n",
       "\\end{enumerate*}\n"
      ],
      "text/markdown": [
       "1. 9.1591445192137\n",
       "2. 11.3843593434786\n",
       "3. 8.74450813737233\n",
       "4. 10.0701427664273\n",
       "5. 11.7114408727024\n",
       "\n",
       "\n"
      ],
      "text/plain": [
       "[1]  9.159145 11.384359  8.744508 10.070143 11.711441"
      ]
     },
     "metadata": {},
     "output_type": "display_data"
    }
   ],
   "source": [
    "set.seed(5)\n",
    "rnorm (5, 10, 1)"
   ]
  },
  {
   "cell_type": "code",
   "execution_count": 15,
   "id": "17083821",
   "metadata": {},
   "outputs": [
    {
     "data": {
      "text/html": [
       "<style>\n",
       ".list-inline {list-style: none; margin:0; padding: 0}\n",
       ".list-inline>li {display: inline-block}\n",
       ".list-inline>li:not(:last-child)::after {content: \"\\00b7\"; padding: 0 .5ex}\n",
       "</style>\n",
       "<ol class=list-inline><li>9.1591445192137</li><li>11.3843593434786</li><li>8.74450813737233</li><li>10.0701427664273</li><li>11.7114408727024</li></ol>\n"
      ],
      "text/latex": [
       "\\begin{enumerate*}\n",
       "\\item 9.1591445192137\n",
       "\\item 11.3843593434786\n",
       "\\item 8.74450813737233\n",
       "\\item 10.0701427664273\n",
       "\\item 11.7114408727024\n",
       "\\end{enumerate*}\n"
      ],
      "text/markdown": [
       "1. 9.1591445192137\n",
       "2. 11.3843593434786\n",
       "3. 8.74450813737233\n",
       "4. 10.0701427664273\n",
       "5. 11.7114408727024\n",
       "\n",
       "\n"
      ],
      "text/plain": [
       "[1]  9.159145 11.384359  8.744508 10.070143 11.711441"
      ]
     },
     "metadata": {},
     "output_type": "display_data"
    }
   ],
   "source": [
    "set.seed(5)\n",
    "rnorm (5, 10, 1)"
   ]
  },
  {
   "cell_type": "markdown",
   "id": "0b6d0045",
   "metadata": {},
   "source": [
    "### Q5\n",
    "* Create a new column in `coral_health_tbl` called `coral_cover`. This column represents coral cover values for the corals observed in your tibble\n",
    "* For the healthy coral (`is_diseased == FALSE`), sample the cover values from a normal with a mean of 9 and standard deviation of 2\n",
    "* For the diseased corals (`health_status = TRUE`), sample the cover values from a normal with mean 1 and std of 3\n",
    "* Note that this is a perfect scenario for using `mapply`\n"
   ]
  },
  {
   "cell_type": "code",
   "execution_count": 20,
   "id": "961b00bf",
   "metadata": {},
   "outputs": [
    {
     "data": {
      "text/html": [
       "<table class=\"dataframe\">\n",
       "<caption>A tibble: 100 × 1</caption>\n",
       "<thead>\n",
       "\t<tr><th scope=col>coral_cover</th></tr>\n",
       "\t<tr><th scope=col>&lt;dbl&gt;</th></tr>\n",
       "</thead>\n",
       "<tbody>\n",
       "\t<tr><td> 7.7941840</td></tr>\n",
       "\t<tr><td> 5.4038857</td></tr>\n",
       "\t<tr><td> 3.1202833</td></tr>\n",
       "\t<tr><td> 3.4570268</td></tr>\n",
       "\t<tr><td> 0.1195545</td></tr>\n",
       "\t<tr><td> 5.2557672</td></tr>\n",
       "\t<tr><td> 5.4963215</td></tr>\n",
       "\t<tr><td>-0.9712463</td></tr>\n",
       "\t<tr><td>-1.5583863</td></tr>\n",
       "\t<tr><td> 1.9477451</td></tr>\n",
       "\t<tr><td> 4.3290825</td></tr>\n",
       "\t<tr><td> 7.6463817</td></tr>\n",
       "\t<tr><td> 4.6513109</td></tr>\n",
       "\t<tr><td> 5.4376654</td></tr>\n",
       "\t<tr><td> 3.8547215</td></tr>\n",
       "\t<tr><td> 8.0556672</td></tr>\n",
       "\t<tr><td>-2.0285979</td></tr>\n",
       "\t<tr><td>-5.0014182</td></tr>\n",
       "\t<tr><td>-4.2865576</td></tr>\n",
       "\t<tr><td> 0.5721756</td></tr>\n",
       "\t<tr><td> 5.6501811</td></tr>\n",
       "\t<tr><td>-1.4072695</td></tr>\n",
       "\t<tr><td> 0.7762632</td></tr>\n",
       "\t<tr><td> 6.6870039</td></tr>\n",
       "\t<tr><td>-0.3697068</td></tr>\n",
       "\t<tr><td> 2.6866701</td></tr>\n",
       "\t<tr><td> 7.7292574</td></tr>\n",
       "\t<tr><td>-1.6610255</td></tr>\n",
       "\t<tr><td>-0.3807337</td></tr>\n",
       "\t<tr><td>-1.1729855</td></tr>\n",
       "\t<tr><td>⋮</td></tr>\n",
       "\t<tr><td> 2.49524850</td></tr>\n",
       "\t<tr><td> 4.63206648</td></tr>\n",
       "\t<tr><td>-4.22690748</td></tr>\n",
       "\t<tr><td> 3.92658729</td></tr>\n",
       "\t<tr><td> 0.92775138</td></tr>\n",
       "\t<tr><td> 9.48163451</td></tr>\n",
       "\t<tr><td> 3.02705343</td></tr>\n",
       "\t<tr><td>-1.13092882</td></tr>\n",
       "\t<tr><td> 8.16169794</td></tr>\n",
       "\t<tr><td>-0.42029604</td></tr>\n",
       "\t<tr><td> 0.77268233</td></tr>\n",
       "\t<tr><td>-0.56552017</td></tr>\n",
       "\t<tr><td> 3.77814140</td></tr>\n",
       "\t<tr><td>-2.18723351</td></tr>\n",
       "\t<tr><td> 2.67110160</td></tr>\n",
       "\t<tr><td> 8.48128919</td></tr>\n",
       "\t<tr><td> 3.70219175</td></tr>\n",
       "\t<tr><td> 3.96983705</td></tr>\n",
       "\t<tr><td> 2.15082426</td></tr>\n",
       "\t<tr><td>-0.03975144</td></tr>\n",
       "\t<tr><td>10.80102389</td></tr>\n",
       "\t<tr><td>-0.62056775</td></tr>\n",
       "\t<tr><td> 0.45233322</td></tr>\n",
       "\t<tr><td> 0.82210105</td></tr>\n",
       "\t<tr><td>-4.98616090</td></tr>\n",
       "\t<tr><td> 4.40593384</td></tr>\n",
       "\t<tr><td> 3.02738370</td></tr>\n",
       "\t<tr><td> 1.62544979</td></tr>\n",
       "\t<tr><td> 0.82646307</td></tr>\n",
       "\t<tr><td> 5.40388571</td></tr>\n",
       "</tbody>\n",
       "</table>\n"
      ],
      "text/latex": [
       "A tibble: 100 × 1\n",
       "\\begin{tabular}{l}\n",
       " coral\\_cover\\\\\n",
       " <dbl>\\\\\n",
       "\\hline\n",
       "\t  7.7941840\\\\\n",
       "\t  5.4038857\\\\\n",
       "\t  3.1202833\\\\\n",
       "\t  3.4570268\\\\\n",
       "\t  0.1195545\\\\\n",
       "\t  5.2557672\\\\\n",
       "\t  5.4963215\\\\\n",
       "\t -0.9712463\\\\\n",
       "\t -1.5583863\\\\\n",
       "\t  1.9477451\\\\\n",
       "\t  4.3290825\\\\\n",
       "\t  7.6463817\\\\\n",
       "\t  4.6513109\\\\\n",
       "\t  5.4376654\\\\\n",
       "\t  3.8547215\\\\\n",
       "\t  8.0556672\\\\\n",
       "\t -2.0285979\\\\\n",
       "\t -5.0014182\\\\\n",
       "\t -4.2865576\\\\\n",
       "\t  0.5721756\\\\\n",
       "\t  5.6501811\\\\\n",
       "\t -1.4072695\\\\\n",
       "\t  0.7762632\\\\\n",
       "\t  6.6870039\\\\\n",
       "\t -0.3697068\\\\\n",
       "\t  2.6866701\\\\\n",
       "\t  7.7292574\\\\\n",
       "\t -1.6610255\\\\\n",
       "\t -0.3807337\\\\\n",
       "\t -1.1729855\\\\\n",
       "\t ⋮\\\\\n",
       "\t  2.49524850\\\\\n",
       "\t  4.63206648\\\\\n",
       "\t -4.22690748\\\\\n",
       "\t  3.92658729\\\\\n",
       "\t  0.92775138\\\\\n",
       "\t  9.48163451\\\\\n",
       "\t  3.02705343\\\\\n",
       "\t -1.13092882\\\\\n",
       "\t  8.16169794\\\\\n",
       "\t -0.42029604\\\\\n",
       "\t  0.77268233\\\\\n",
       "\t -0.56552017\\\\\n",
       "\t  3.77814140\\\\\n",
       "\t -2.18723351\\\\\n",
       "\t  2.67110160\\\\\n",
       "\t  8.48128919\\\\\n",
       "\t  3.70219175\\\\\n",
       "\t  3.96983705\\\\\n",
       "\t  2.15082426\\\\\n",
       "\t -0.03975144\\\\\n",
       "\t 10.80102389\\\\\n",
       "\t -0.62056775\\\\\n",
       "\t  0.45233322\\\\\n",
       "\t  0.82210105\\\\\n",
       "\t -4.98616090\\\\\n",
       "\t  4.40593384\\\\\n",
       "\t  3.02738370\\\\\n",
       "\t  1.62544979\\\\\n",
       "\t  0.82646307\\\\\n",
       "\t  5.40388571\\\\\n",
       "\\end{tabular}\n"
      ],
      "text/markdown": [
       "\n",
       "A tibble: 100 × 1\n",
       "\n",
       "| coral_cover &lt;dbl&gt; |\n",
       "|---|\n",
       "|  7.7941840 |\n",
       "|  5.4038857 |\n",
       "|  3.1202833 |\n",
       "|  3.4570268 |\n",
       "|  0.1195545 |\n",
       "|  5.2557672 |\n",
       "|  5.4963215 |\n",
       "| -0.9712463 |\n",
       "| -1.5583863 |\n",
       "|  1.9477451 |\n",
       "|  4.3290825 |\n",
       "|  7.6463817 |\n",
       "|  4.6513109 |\n",
       "|  5.4376654 |\n",
       "|  3.8547215 |\n",
       "|  8.0556672 |\n",
       "| -2.0285979 |\n",
       "| -5.0014182 |\n",
       "| -4.2865576 |\n",
       "|  0.5721756 |\n",
       "|  5.6501811 |\n",
       "| -1.4072695 |\n",
       "|  0.7762632 |\n",
       "|  6.6870039 |\n",
       "| -0.3697068 |\n",
       "|  2.6866701 |\n",
       "|  7.7292574 |\n",
       "| -1.6610255 |\n",
       "| -0.3807337 |\n",
       "| -1.1729855 |\n",
       "| ⋮ |\n",
       "|  2.49524850 |\n",
       "|  4.63206648 |\n",
       "| -4.22690748 |\n",
       "|  3.92658729 |\n",
       "|  0.92775138 |\n",
       "|  9.48163451 |\n",
       "|  3.02705343 |\n",
       "| -1.13092882 |\n",
       "|  8.16169794 |\n",
       "| -0.42029604 |\n",
       "|  0.77268233 |\n",
       "| -0.56552017 |\n",
       "|  3.77814140 |\n",
       "| -2.18723351 |\n",
       "|  2.67110160 |\n",
       "|  8.48128919 |\n",
       "|  3.70219175 |\n",
       "|  3.96983705 |\n",
       "|  2.15082426 |\n",
       "| -0.03975144 |\n",
       "| 10.80102389 |\n",
       "| -0.62056775 |\n",
       "|  0.45233322 |\n",
       "|  0.82210105 |\n",
       "| -4.98616090 |\n",
       "|  4.40593384 |\n",
       "|  3.02738370 |\n",
       "|  1.62544979 |\n",
       "|  0.82646307 |\n",
       "|  5.40388571 |\n",
       "\n"
      ],
      "text/plain": [
       "    coral_cover\n",
       "1    7.7941840 \n",
       "2    5.4038857 \n",
       "3    3.1202833 \n",
       "4    3.4570268 \n",
       "5    0.1195545 \n",
       "6    5.2557672 \n",
       "7    5.4963215 \n",
       "8   -0.9712463 \n",
       "9   -1.5583863 \n",
       "10   1.9477451 \n",
       "11   4.3290825 \n",
       "12   7.6463817 \n",
       "13   4.6513109 \n",
       "14   5.4376654 \n",
       "15   3.8547215 \n",
       "16   8.0556672 \n",
       "17  -2.0285979 \n",
       "18  -5.0014182 \n",
       "19  -4.2865576 \n",
       "20   0.5721756 \n",
       "21   5.6501811 \n",
       "22  -1.4072695 \n",
       "23   0.7762632 \n",
       "24   6.6870039 \n",
       "25  -0.3697068 \n",
       "26   2.6866701 \n",
       "27   7.7292574 \n",
       "28  -1.6610255 \n",
       "29  -0.3807337 \n",
       "30  -1.1729855 \n",
       "⋮   ⋮          \n",
       "71   2.49524850\n",
       "72   4.63206648\n",
       "73  -4.22690748\n",
       "74   3.92658729\n",
       "75   0.92775138\n",
       "76   9.48163451\n",
       "77   3.02705343\n",
       "78  -1.13092882\n",
       "79   8.16169794\n",
       "80  -0.42029604\n",
       "81   0.77268233\n",
       "82  -0.56552017\n",
       "83   3.77814140\n",
       "84  -2.18723351\n",
       "85   2.67110160\n",
       "86   8.48128919\n",
       "87   3.70219175\n",
       "88   3.96983705\n",
       "89   2.15082426\n",
       "90  -0.03975144\n",
       "91  10.80102389\n",
       "92  -0.62056775\n",
       "93   0.45233322\n",
       "94   0.82210105\n",
       "95  -4.98616090\n",
       "96   4.40593384\n",
       "97   3.02738370\n",
       "98   1.62544979\n",
       "99   0.82646307\n",
       "100  5.40388571"
      ]
     },
     "metadata": {},
     "output_type": "display_data"
    }
   ],
   "source": [
    "coral_health_tbl[\"coral_cover\"]"
   ]
  },
  {
   "cell_type": "code",
   "execution_count": 21,
   "id": "de8efd8c",
   "metadata": {},
   "outputs": [
    {
     "data": {
      "text/html": [
       "<table class=\"dataframe\">\n",
       "<caption>A tibble: 6 × 3</caption>\n",
       "<thead>\n",
       "\t<tr><th scope=col>coral</th><th scope=col>is_diseased</th><th scope=col>coral_cover</th></tr>\n",
       "\t<tr><th scope=col>&lt;chr&gt;</th><th scope=col>&lt;chr&gt;</th><th scope=col>&lt;dbl&gt;</th></tr>\n",
       "</thead>\n",
       "<tbody>\n",
       "\t<tr><td>Porites lobata   </td><td>FALSE</td><td>7.7941840</td></tr>\n",
       "\t<tr><td>Porites lobata   </td><td>TRUE </td><td>5.4038857</td></tr>\n",
       "\t<tr><td>Porites compressa</td><td>TRUE </td><td>3.1202833</td></tr>\n",
       "\t<tr><td>Porites compressa</td><td>TRUE </td><td>3.4570268</td></tr>\n",
       "\t<tr><td>Porites lobata   </td><td>TRUE </td><td>0.1195545</td></tr>\n",
       "\t<tr><td>Porites lobata   </td><td>TRUE </td><td>5.2557672</td></tr>\n",
       "</tbody>\n",
       "</table>\n"
      ],
      "text/latex": [
       "A tibble: 6 × 3\n",
       "\\begin{tabular}{lll}\n",
       " coral & is\\_diseased & coral\\_cover\\\\\n",
       " <chr> & <chr> & <dbl>\\\\\n",
       "\\hline\n",
       "\t Porites lobata    & FALSE & 7.7941840\\\\\n",
       "\t Porites lobata    & TRUE  & 5.4038857\\\\\n",
       "\t Porites compressa & TRUE  & 3.1202833\\\\\n",
       "\t Porites compressa & TRUE  & 3.4570268\\\\\n",
       "\t Porites lobata    & TRUE  & 0.1195545\\\\\n",
       "\t Porites lobata    & TRUE  & 5.2557672\\\\\n",
       "\\end{tabular}\n"
      ],
      "text/markdown": [
       "\n",
       "A tibble: 6 × 3\n",
       "\n",
       "| coral &lt;chr&gt; | is_diseased &lt;chr&gt; | coral_cover &lt;dbl&gt; |\n",
       "|---|---|---|\n",
       "| Porites lobata    | FALSE | 7.7941840 |\n",
       "| Porites lobata    | TRUE  | 5.4038857 |\n",
       "| Porites compressa | TRUE  | 3.1202833 |\n",
       "| Porites compressa | TRUE  | 3.4570268 |\n",
       "| Porites lobata    | TRUE  | 0.1195545 |\n",
       "| Porites lobata    | TRUE  | 5.2557672 |\n",
       "\n"
      ],
      "text/plain": [
       "  coral             is_diseased coral_cover\n",
       "1 Porites lobata    FALSE       7.7941840  \n",
       "2 Porites lobata    TRUE        5.4038857  \n",
       "3 Porites compressa TRUE        3.1202833  \n",
       "4 Porites compressa TRUE        3.4570268  \n",
       "5 Porites lobata    TRUE        0.1195545  \n",
       "6 Porites lobata    TRUE        5.2557672  "
      ]
     },
     "metadata": {},
     "output_type": "display_data"
    }
   ],
   "source": [
    "# Write your code here\n",
    "head(coral_health_tbl)"
   ]
  },
  {
   "cell_type": "code",
   "execution_count": 22,
   "id": "fd1f8a9e",
   "metadata": {},
   "outputs": [
    {
     "data": {
      "text/html": [
       "<style>\n",
       ".list-inline {list-style: none; margin:0; padding: 0}\n",
       ".list-inline>li {display: inline-block}\n",
       ".list-inline>li:not(:last-child)::after {content: \"\\00b7\"; padding: 0 .5ex}\n",
       "</style>\n",
       "<ol class=list-inline><li>84</li><li>3</li></ol>\n"
      ],
      "text/latex": [
       "\\begin{enumerate*}\n",
       "\\item 84\n",
       "\\item 3\n",
       "\\end{enumerate*}\n"
      ],
      "text/markdown": [
       "1. 84\n",
       "2. 3\n",
       "\n",
       "\n"
      ],
      "text/plain": [
       "[1] 84  3"
      ]
     },
     "metadata": {},
     "output_type": "display_data"
    }
   ],
   "source": [
    "diseased_lines <- coral_health_tbl[\"is_diseased\"]==TRUE\n",
    "dim(subset(coral_health_tbl, diseased_lines))"
   ]
  },
  {
   "cell_type": "code",
   "execution_count": 23,
   "id": "14c94756",
   "metadata": {},
   "outputs": [
    {
     "data": {
      "text/html": [
       "<style>\n",
       ".list-inline {list-style: none; margin:0; padding: 0}\n",
       ".list-inline>li {display: inline-block}\n",
       ".list-inline>li:not(:last-child)::after {content: \"\\00b7\"; padding: 0 .5ex}\n",
       "</style>\n",
       "<ol class=list-inline><li>16</li><li>3</li></ol>\n"
      ],
      "text/latex": [
       "\\begin{enumerate*}\n",
       "\\item 16\n",
       "\\item 3\n",
       "\\end{enumerate*}\n"
      ],
      "text/markdown": [
       "1. 16\n",
       "2. 3\n",
       "\n",
       "\n"
      ],
      "text/plain": [
       "[1] 16  3"
      ]
     },
     "metadata": {},
     "output_type": "display_data"
    }
   ],
   "source": [
    "not_diseased_lines <- coral_health_tbl[\"is_diseased\"]==FALSE\n",
    "dim(subset(coral_health_tbl, not_diseased_lines))"
   ]
  },
  {
   "cell_type": "code",
   "execution_count": 25,
   "id": "93c7d839",
   "metadata": {},
   "outputs": [],
   "source": [
    "values_not_diseased <- rnorm(16, 9, 2)\n",
    "values_diseased <- rnorm(84, 1, 3)\n",
    "coral_health_tbl$coral_cover[coral_health_tbl$is_diseased == FALSE] <- values_not_diseased\n",
    "coral_health_tbl$coral_cover[coral_health_tbl$is_diseased == TRUE] <- values_diseased"
   ]
  },
  {
   "cell_type": "code",
   "execution_count": 26,
   "id": "10903bf9",
   "metadata": {},
   "outputs": [
    {
     "data": {
      "text/html": [
       "<table class=\"dataframe\">\n",
       "<caption>A tibble: 6 × 3</caption>\n",
       "<thead>\n",
       "\t<tr><th scope=col>coral</th><th scope=col>is_diseased</th><th scope=col>coral_cover</th></tr>\n",
       "\t<tr><th scope=col>&lt;chr&gt;</th><th scope=col>&lt;chr&gt;</th><th scope=col>&lt;dbl&gt;</th></tr>\n",
       "</thead>\n",
       "<tbody>\n",
       "\t<tr><td>Porites lobata   </td><td>FALSE</td><td> 9.8215633</td></tr>\n",
       "\t<tr><td>Porites lobata   </td><td>TRUE </td><td> 0.9001024</td></tr>\n",
       "\t<tr><td>Porites compressa</td><td>TRUE </td><td> 7.0755910</td></tr>\n",
       "\t<tr><td>Porites compressa</td><td>TRUE </td><td>-0.1123602</td></tr>\n",
       "\t<tr><td>Porites lobata   </td><td>TRUE </td><td>-3.7347033</td></tr>\n",
       "\t<tr><td>Porites lobata   </td><td>TRUE </td><td> 0.6352841</td></tr>\n",
       "</tbody>\n",
       "</table>\n"
      ],
      "text/latex": [
       "A tibble: 6 × 3\n",
       "\\begin{tabular}{lll}\n",
       " coral & is\\_diseased & coral\\_cover\\\\\n",
       " <chr> & <chr> & <dbl>\\\\\n",
       "\\hline\n",
       "\t Porites lobata    & FALSE &  9.8215633\\\\\n",
       "\t Porites lobata    & TRUE  &  0.9001024\\\\\n",
       "\t Porites compressa & TRUE  &  7.0755910\\\\\n",
       "\t Porites compressa & TRUE  & -0.1123602\\\\\n",
       "\t Porites lobata    & TRUE  & -3.7347033\\\\\n",
       "\t Porites lobata    & TRUE  &  0.6352841\\\\\n",
       "\\end{tabular}\n"
      ],
      "text/markdown": [
       "\n",
       "A tibble: 6 × 3\n",
       "\n",
       "| coral &lt;chr&gt; | is_diseased &lt;chr&gt; | coral_cover &lt;dbl&gt; |\n",
       "|---|---|---|\n",
       "| Porites lobata    | FALSE |  9.8215633 |\n",
       "| Porites lobata    | TRUE  |  0.9001024 |\n",
       "| Porites compressa | TRUE  |  7.0755910 |\n",
       "| Porites compressa | TRUE  | -0.1123602 |\n",
       "| Porites lobata    | TRUE  | -3.7347033 |\n",
       "| Porites lobata    | TRUE  |  0.6352841 |\n",
       "\n"
      ],
      "text/plain": [
       "  coral             is_diseased coral_cover\n",
       "1 Porites lobata    FALSE        9.8215633 \n",
       "2 Porites lobata    TRUE         0.9001024 \n",
       "3 Porites compressa TRUE         7.0755910 \n",
       "4 Porites compressa TRUE        -0.1123602 \n",
       "5 Porites lobata    TRUE        -3.7347033 \n",
       "6 Porites lobata    TRUE         0.6352841 "
      ]
     },
     "metadata": {},
     "output_type": "display_data"
    }
   ],
   "source": [
    "head(coral_health_tbl)"
   ]
  },
  {
   "cell_type": "markdown",
   "id": "7e7af1ce",
   "metadata": {},
   "source": [
    "### Q6\n",
    "\n",
    "* Add another column called `binary_health_status`.\n",
    " * set the column to 0 if `is_diseased == FALSE`\n",
    " * set the column to 1 if `is_diseased == TRUE`\n",
    "\n",
    "* A trick here is to remember that:\n",
    "  1. Corecing (converting) a logical can be done with `as.integer()`\n",
    "  2. `as.integer(TRUE)` returns 1\n",
    "  3. `as.integer(FALSE)` returns 0\n",
    "\n",
    "\n"
   ]
  },
  {
   "cell_type": "code",
   "execution_count": 27,
   "id": "71ed115a",
   "metadata": {},
   "outputs": [],
   "source": [
    "binary_health_status <- 1:100"
   ]
  },
  {
   "cell_type": "code",
   "execution_count": 28,
   "id": "92b033c1",
   "metadata": {},
   "outputs": [],
   "source": [
    "coral_health_tbl[\"binary_health_status\"] <- binary_health_status"
   ]
  },
  {
   "cell_type": "code",
   "execution_count": 29,
   "id": "7aa523f6",
   "metadata": {},
   "outputs": [],
   "source": [
    "coral_health_tbl$binary_health_status[coral_health_tbl$is_diseased == FALSE] <- 0\n",
    "coral_health_tbl$binary_health_status[coral_health_tbl$is_diseased == TRUE] <- 1"
   ]
  },
  {
   "cell_type": "code",
   "execution_count": 30,
   "id": "2fa25c40",
   "metadata": {},
   "outputs": [
    {
     "data": {
      "text/html": [
       "<table class=\"dataframe\">\n",
       "<caption>A tibble: 6 × 4</caption>\n",
       "<thead>\n",
       "\t<tr><th scope=col>coral</th><th scope=col>is_diseased</th><th scope=col>coral_cover</th><th scope=col>binary_health_status</th></tr>\n",
       "\t<tr><th scope=col>&lt;chr&gt;</th><th scope=col>&lt;chr&gt;</th><th scope=col>&lt;dbl&gt;</th><th scope=col>&lt;dbl&gt;</th></tr>\n",
       "</thead>\n",
       "<tbody>\n",
       "\t<tr><td>Porites lobata   </td><td>FALSE</td><td> 9.8215633</td><td>0</td></tr>\n",
       "\t<tr><td>Porites lobata   </td><td>TRUE </td><td> 0.9001024</td><td>1</td></tr>\n",
       "\t<tr><td>Porites compressa</td><td>TRUE </td><td> 7.0755910</td><td>1</td></tr>\n",
       "\t<tr><td>Porites compressa</td><td>TRUE </td><td>-0.1123602</td><td>1</td></tr>\n",
       "\t<tr><td>Porites lobata   </td><td>TRUE </td><td>-3.7347033</td><td>1</td></tr>\n",
       "\t<tr><td>Porites lobata   </td><td>TRUE </td><td> 0.6352841</td><td>1</td></tr>\n",
       "</tbody>\n",
       "</table>\n"
      ],
      "text/latex": [
       "A tibble: 6 × 4\n",
       "\\begin{tabular}{llll}\n",
       " coral & is\\_diseased & coral\\_cover & binary\\_health\\_status\\\\\n",
       " <chr> & <chr> & <dbl> & <dbl>\\\\\n",
       "\\hline\n",
       "\t Porites lobata    & FALSE &  9.8215633 & 0\\\\\n",
       "\t Porites lobata    & TRUE  &  0.9001024 & 1\\\\\n",
       "\t Porites compressa & TRUE  &  7.0755910 & 1\\\\\n",
       "\t Porites compressa & TRUE  & -0.1123602 & 1\\\\\n",
       "\t Porites lobata    & TRUE  & -3.7347033 & 1\\\\\n",
       "\t Porites lobata    & TRUE  &  0.6352841 & 1\\\\\n",
       "\\end{tabular}\n"
      ],
      "text/markdown": [
       "\n",
       "A tibble: 6 × 4\n",
       "\n",
       "| coral &lt;chr&gt; | is_diseased &lt;chr&gt; | coral_cover &lt;dbl&gt; | binary_health_status &lt;dbl&gt; |\n",
       "|---|---|---|---|\n",
       "| Porites lobata    | FALSE |  9.8215633 | 0 |\n",
       "| Porites lobata    | TRUE  |  0.9001024 | 1 |\n",
       "| Porites compressa | TRUE  |  7.0755910 | 1 |\n",
       "| Porites compressa | TRUE  | -0.1123602 | 1 |\n",
       "| Porites lobata    | TRUE  | -3.7347033 | 1 |\n",
       "| Porites lobata    | TRUE  |  0.6352841 | 1 |\n",
       "\n"
      ],
      "text/plain": [
       "  coral             is_diseased coral_cover binary_health_status\n",
       "1 Porites lobata    FALSE        9.8215633  0                   \n",
       "2 Porites lobata    TRUE         0.9001024  1                   \n",
       "3 Porites compressa TRUE         7.0755910  1                   \n",
       "4 Porites compressa TRUE        -0.1123602  1                   \n",
       "5 Porites lobata    TRUE        -3.7347033  1                   \n",
       "6 Porites lobata    TRUE         0.6352841  1                   "
      ]
     },
     "metadata": {},
     "output_type": "display_data"
    }
   ],
   "source": [
    "head(coral_health_tbl)"
   ]
  },
  {
   "cell_type": "code",
   "execution_count": 33,
   "id": "828865f2",
   "metadata": {},
   "outputs": [
    {
     "name": "stdout",
     "output_type": "stream",
     "text": [
      "'data.frame':\t100 obs. of  4 variables:\n",
      " $ coral               : chr  \"Porites lobata\" \"Porites lobata\" \"Porites compressa\" \"Porites compressa\" ...\n",
      " $ is_diseased         : chr  \"FALSE\" \"TRUE\" \"TRUE\" \"TRUE\" ...\n",
      " $ coral_cover         : num  9.822 0.9 7.076 -0.112 -3.735 ...\n",
      " $ binary_health_status: num  0 1 1 1 1 1 1 1 1 1 ...\n"
     ]
    }
   ],
   "source": [
    "coral_health_df2 <- as.data.frame(coral_health_tbl)\n",
    "str(coral_health_df2)"
   ]
  },
  {
   "cell_type": "code",
   "execution_count": 34,
   "id": "82528aaf",
   "metadata": {},
   "outputs": [
    {
     "data": {
      "text/html": [
       "<table class=\"dataframe\">\n",
       "<caption>A data.frame: 6 × 4</caption>\n",
       "<thead>\n",
       "\t<tr><th></th><th scope=col>coral</th><th scope=col>is_diseased</th><th scope=col>coral_cover</th><th scope=col>binary_health_status</th></tr>\n",
       "\t<tr><th></th><th scope=col>&lt;chr&gt;</th><th scope=col>&lt;chr&gt;</th><th scope=col>&lt;dbl&gt;</th><th scope=col>&lt;dbl&gt;</th></tr>\n",
       "</thead>\n",
       "<tbody>\n",
       "\t<tr><th scope=row>1</th><td>Porites lobata   </td><td>FALSE</td><td> 9.8215633</td><td>0</td></tr>\n",
       "\t<tr><th scope=row>2</th><td>Porites lobata   </td><td>TRUE </td><td> 0.9001024</td><td>1</td></tr>\n",
       "\t<tr><th scope=row>3</th><td>Porites compressa</td><td>TRUE </td><td> 7.0755910</td><td>1</td></tr>\n",
       "\t<tr><th scope=row>4</th><td>Porites compressa</td><td>TRUE </td><td>-0.1123602</td><td>1</td></tr>\n",
       "\t<tr><th scope=row>5</th><td>Porites lobata   </td><td>TRUE </td><td>-3.7347033</td><td>1</td></tr>\n",
       "\t<tr><th scope=row>6</th><td>Porites lobata   </td><td>TRUE </td><td> 0.6352841</td><td>1</td></tr>\n",
       "</tbody>\n",
       "</table>\n"
      ],
      "text/latex": [
       "A data.frame: 6 × 4\n",
       "\\begin{tabular}{r|llll}\n",
       "  & coral & is\\_diseased & coral\\_cover & binary\\_health\\_status\\\\\n",
       "  & <chr> & <chr> & <dbl> & <dbl>\\\\\n",
       "\\hline\n",
       "\t1 & Porites lobata    & FALSE &  9.8215633 & 0\\\\\n",
       "\t2 & Porites lobata    & TRUE  &  0.9001024 & 1\\\\\n",
       "\t3 & Porites compressa & TRUE  &  7.0755910 & 1\\\\\n",
       "\t4 & Porites compressa & TRUE  & -0.1123602 & 1\\\\\n",
       "\t5 & Porites lobata    & TRUE  & -3.7347033 & 1\\\\\n",
       "\t6 & Porites lobata    & TRUE  &  0.6352841 & 1\\\\\n",
       "\\end{tabular}\n"
      ],
      "text/markdown": [
       "\n",
       "A data.frame: 6 × 4\n",
       "\n",
       "| <!--/--> | coral &lt;chr&gt; | is_diseased &lt;chr&gt; | coral_cover &lt;dbl&gt; | binary_health_status &lt;dbl&gt; |\n",
       "|---|---|---|---|---|\n",
       "| 1 | Porites lobata    | FALSE |  9.8215633 | 0 |\n",
       "| 2 | Porites lobata    | TRUE  |  0.9001024 | 1 |\n",
       "| 3 | Porites compressa | TRUE  |  7.0755910 | 1 |\n",
       "| 4 | Porites compressa | TRUE  | -0.1123602 | 1 |\n",
       "| 5 | Porites lobata    | TRUE  | -3.7347033 | 1 |\n",
       "| 6 | Porites lobata    | TRUE  |  0.6352841 | 1 |\n",
       "\n"
      ],
      "text/plain": [
       "  coral             is_diseased coral_cover binary_health_status\n",
       "1 Porites lobata    FALSE        9.8215633  0                   \n",
       "2 Porites lobata    TRUE         0.9001024  1                   \n",
       "3 Porites compressa TRUE         7.0755910  1                   \n",
       "4 Porites compressa TRUE        -0.1123602  1                   \n",
       "5 Porites lobata    TRUE        -3.7347033  1                   \n",
       "6 Porites lobata    TRUE         0.6352841  1                   "
      ]
     },
     "metadata": {},
     "output_type": "display_data"
    }
   ],
   "source": [
    "head(coral_health_df2)"
   ]
  },
  {
   "cell_type": "markdown",
   "id": "a6e28e80",
   "metadata": {},
   "source": [
    "### Q7\n",
    "\n",
    "* Plot the distribution of `coral_cover` for healthy versus diseased corals\n",
    "* Note that I am using the histogram `geom`\n",
    "  * Histograms need only an `x`-axis because the `y` is typically computed as the number of items occurring in a bin of some predetermined width.\n",
    "    * However, instead of a raw count, we want a normalized count. You can normalize the count by setting `y = stat(count / sum(count))`  \n",
    "  * I am coloring the bin outlines in black and filling in grey for disease and white for healthy\n",
    "  * I am using `binwidth=1'.\n",
    "* Use the `labs` function to add a title and to change the labels for the `x` and `y` axes\n",
    "* The plot should look \"somewhat\" like the following\n",
    "![](https://www.dropbox.com/s/wdbdj05rd50vb0k/healthy-diseased.png?dl=1)"
   ]
  },
  {
   "cell_type": "code",
   "execution_count": 49,
   "id": "7b60757a",
   "metadata": {},
   "outputs": [],
   "source": [
    "color <- c(rep(\"white\",FALSE),rep(\"grey\",TRUE))"
   ]
  },
  {
   "cell_type": "code",
   "execution_count": 65,
   "id": "8ab872f1",
   "metadata": {},
   "outputs": [
    {
     "data": {
      "image/png": "[encoded data removed]",
      "text/plain": [
       "plot without title"
      ]
     },
     "metadata": {
      "image/png": {
       "height": 420,
       "width": 420
      }
     },
     "output_type": "display_data"
    }
   ],
   "source": [
    "ggplot (coral_health_tbl, aes (x = coral_cover, y = stat(count/sum(count)), fill = is_diseased)) +\n",
    "geom_histogram (binwidth = 1, color = 'black') +\n",
    "labs (x = 'Coral Cover', y = 'Normalized Proporton', title = 'Total Coral Coverage (Healthy v.s Diseased)')"
   ]
  },
  {
   "cell_type": "markdown",
   "id": "5a9538df",
   "metadata": {},
   "source": [
    "### Q8\n",
    "\n",
    "* Use `geom_density` to mirror the information conveyed in the histogram above using density curves instead of histograms.\n",
    "  * Set the `adjust` parameter of `geom_density` to `2`\n",
    "* Change the `xlim` scale so that we can see the edges of the curves\n",
    "  * I.e., curves should not be cut off\n",
    "  \n",
    "* The resulting curve will look like the following\n",
    "![](https://www.dropbox.com/s/rs4rx0w6ur8p5wq/coral_distr_practical.png?dl=1)\n"
   ]
  },
  {
   "cell_type": "code",
   "execution_count": 67,
   "id": "628e0da4",
   "metadata": {},
   "outputs": [
    {
     "data": {
      "image/png": "[encoded data removed]",
      "text/plain": [
       "plot without title"
      ]
     },
     "metadata": {
      "image/png": {
       "height": 420,
       "width": 420
      }
     },
     "output_type": "display_data"
    }
   ],
   "source": [
    "ggplot (coral_health_tbl, aes (x = coral_cover, y = stat(count/sum(count)), fill = coral)) +\n",
    "geom_density (adjust = 2) +\n",
    "labs (x = 'Coral Cover', y = 'Density', title = 'Total Coral Coverage (Healthy v.s Diseased)')"
   ]
  },
  {
   "cell_type": "markdown",
   "id": "8c811bda",
   "metadata": {},
   "source": [
    "### Q9\n",
    "\n",
    "You have been provided with the dataset illustrated in the image below, which contains counts for 20 fish species across 5 locations. For convenience, only two species and 2 locations are illustrated here. Based on your knowledge of tidy data, how can you format the data shown in this file in a way that is considered `tidy`. Provide an image of a hand-drawn table (or tables if needed) that represents the table format. Briefly justify your answer in a 3-4 sentences.\n",
    "\n",
    "\n",
    "![](https://www.dropbox.com/s/ucvj0gburg8at60/tidy_data.png?dl=1)"
   ]
  },
  {
   "cell_type": "markdown",
   "id": "bfc9620c",
   "metadata": {},
   "source": [
    "Tidy data has a specific structure: each variable has its own column and each observation has its own row. Here, location is just another variable, so it is given its own column. Genus name and species name (shown in table as \"Genus\" and \"Species\") are also treated as separate vaiables, as well as common name (\"Common\") and count (\"Count\").\n",
    "![](https://www.dropbox.com/home/Honour%20Booth?preview=Practical5_Q9+copy.png?dl=1)"
   ]
  },
  {
   "cell_type": "markdown",
   "id": "784fa644",
   "metadata": {},
   "source": [
    "### Q10 -- Challenge (Optional)\n",
    "\n",
    "\n",
    "Recall problem `8` in the airquality dataset.\n",
    "  * Remember that you can import that dataset using `data(airquality)`\n",
    "1. Convert the `airquality` dataframe to a tibble called `airq_tbl`\n",
    "2. Replace the missing values for Solar.R using that month's average.\n",
    "    * Example:\n",
    "        * The missing value for line 6 in `airq_tbl`should be replaced with the average for month 5.\n",
    "        * The missing value for line 97 in `airq_tbl` should be replaced with the average for month 8.\n",
    "\n",
    "* Strategy:\n",
    "  1. Compute the average values for months 5, 6, 7, 8, and 9 in a names vector called `monthly_avg_SolarR`\n",
    "      * monthly_avg_SolarR[5] should return the average for May.\n",
    "      * monthly_avg_SolarR[6] should return the average for June.\n",
    "      * etc.\n",
    "      * This is an ideal use case for `tapply` with `na.rm=TRUE` (ask me!)\n",
    "  2. for each line of airq_tbl check value of Solar.R and do:\n",
    "    * if value is not `na`, return the value\n",
    "    * if value if `na`; return avg associated with `Month`\n",
    "    * This is an ideal case for `apply`\n",
    "      * You need to write your own function (call it `fix_missing_solar_R`)\n",
    "      * Recall that the argument to that function is a complete row as a vector!\n",
    "    * test your function with the following line to make sure it's working\n",
    "    ```fix_missing_solar_R(airq_tbl[5,])```"
   ]
  }
 ],
 "metadata": {
  "kernelspec": {
   "display_name": "R",
   "language": "R",
   "name": "ir"
  },
  "language_info": {
   "codemirror_mode": "r",
   "file_extension": ".r",
   "mimetype": "text/x-r-source",
   "name": "R",
   "pygments_lexer": "r",
   "version": "4.2.1"
  }
 },
 "nbformat": 4,
 "nbformat_minor": 5
}
